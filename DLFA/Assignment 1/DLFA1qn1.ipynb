{
  "nbformat": 4,
  "nbformat_minor": 0,
  "metadata": {
    "colab": {
      "provenance": []
    },
    "kernelspec": {
      "name": "python3",
      "display_name": "Python 3"
    },
    "language_info": {
      "name": "python"
    }
  },
  "cells": [
    {
      "cell_type": "code",
      "source": [
        "import numpy as np\n",
        "import random\n",
        "from random import randint"
      ],
      "metadata": {
        "id": "gmakFhPO9jHx"
      },
      "execution_count": 15,
      "outputs": []
    },
    {
      "cell_type": "markdown",
      "source": [
        "I have used randint to generate random input each time we run."
      ],
      "metadata": {
        "id": "hAiTg7sSTKNC"
      }
    },
    {
      "cell_type": "code",
      "source": [
        "class MPNeuron:\n",
        "    def __init__(self, threshold, input_types):\n",
        "        self.threshold = threshold\n",
        "        self.input_types = input_types\n",
        "\n",
        "    def compute_output(self, inputs):\n",
        "\n",
        "        if self.input_types@inputs.transpose()>=self.threshold:\n",
        "            return 1\n",
        "        else:\n",
        "            return 0"
      ],
      "metadata": {
        "id": "Eq5PxRMcPnwQ"
      },
      "execution_count": 16,
      "outputs": []
    },
    {
      "cell_type": "markdown",
      "source": [
        "AND Gate"
      ],
      "metadata": {
        "id": "SyYR9S_r8-ir"
      }
    },
    {
      "cell_type": "code",
      "source": [
        "# Test the AND logic gate\n",
        "# 1-> excitatory\n",
        "# -1 -> inhibitory\n",
        "and_gate = MPNeuron(threshold=2, input_types=[1,1])\n",
        "\n",
        "inputs = np.array([randint(0,1), randint(0,1)])\n",
        "\n",
        "output = and_gate.compute_output(inputs)\n",
        "print(f\"Inputs: {inputs}, Output: {output}\")"
      ],
      "metadata": {
        "colab": {
          "base_uri": "https://localhost:8080/"
        },
        "id": "7obgn14eKnlo",
        "outputId": "5fd4161a-6a88-439b-ab44-9b02767b827f"
      },
      "execution_count": 17,
      "outputs": [
        {
          "output_type": "stream",
          "name": "stdout",
          "text": [
            "Inputs: [1 0], Output: 0\n"
          ]
        }
      ]
    },
    {
      "cell_type": "markdown",
      "source": [
        "OR Gate"
      ],
      "metadata": {
        "id": "AeFTRWgdAJnT"
      }
    },
    {
      "cell_type": "code",
      "source": [
        "# Test the OR logic gate\n",
        "# 1-> excitatory\n",
        "# -1 -> inhibitory\n",
        "or_gate = MPNeuron(threshold=1, input_types=[1,1])\n",
        "\n",
        "inputs = np.array([randint(0,1), randint(0,1)])\n",
        "\n",
        "output = or_gate.compute_output(inputs)\n",
        "print(f\"Inputs: {inputs}, Output: {output}\")"
      ],
      "metadata": {
        "colab": {
          "base_uri": "https://localhost:8080/"
        },
        "id": "VWdOXxqLOWmB",
        "outputId": "e9dde0b3-29b2-4ae9-d258-8eec36bb925b"
      },
      "execution_count": 18,
      "outputs": [
        {
          "output_type": "stream",
          "name": "stdout",
          "text": [
            "Inputs: [0 0], Output: 0\n"
          ]
        }
      ]
    },
    {
      "cell_type": "markdown",
      "source": [
        "NOT Gate"
      ],
      "metadata": {
        "id": "FdKKse9iAs0-"
      }
    },
    {
      "cell_type": "code",
      "source": [
        "# Test the NOT logic gate\n",
        "# 1-> excitatory\n",
        "# -1 -> inhibitory\n",
        "not_gate = MPNeuron(threshold=0, input_types=[-1])\n",
        "\n",
        "inputs = np.array([randint(0,1)])\n",
        "\n",
        "output = not_gate.compute_output(inputs)\n",
        "print(f\"Inputs: {inputs}, Output: {output}\")"
      ],
      "metadata": {
        "colab": {
          "base_uri": "https://localhost:8080/"
        },
        "id": "Vd9VYnlqLRuU",
        "outputId": "7a7d1058-91e5-4eff-d259-02f2043db38d"
      },
      "execution_count": 19,
      "outputs": [
        {
          "output_type": "stream",
          "name": "stdout",
          "text": [
            "Inputs: [1], Output: 0\n"
          ]
        }
      ]
    },
    {
      "cell_type": "markdown",
      "source": [
        "NOR"
      ],
      "metadata": {
        "id": "MP8Jxf_HRHrc"
      }
    },
    {
      "cell_type": "code",
      "source": [
        "# Test the NOR logic gate\n",
        "# 1-> excitatory\n",
        "# -1 -> inhibitory\n",
        "nor_gate = MPNeuron(threshold=0, input_types=[-1,-1])\n",
        "\n",
        "inputs = np.array([randint(0,1), randint(0,1)])\n",
        "\n",
        "output = nor_gate.compute_output(inputs)\n",
        "print(f\"Inputs: {inputs}, Output: {output}\")"
      ],
      "metadata": {
        "colab": {
          "base_uri": "https://localhost:8080/"
        },
        "id": "9jpju32-RIVh",
        "outputId": "e2248c36-4330-422f-96e2-ddfb60177c2c"
      },
      "execution_count": 20,
      "outputs": [
        {
          "output_type": "stream",
          "name": "stdout",
          "text": [
            "Inputs: [1 0], Output: 0\n"
          ]
        }
      ]
    },
    {
      "cell_type": "markdown",
      "source": [
        "XOR"
      ],
      "metadata": {
        "id": "H7TqbFP3XJet"
      }
    },
    {
      "cell_type": "code",
      "source": [
        "def xor(a,b):\n",
        "  p=np.array([a,b])\n",
        "  x1= and_gate.compute_output(p)\n",
        "  q=[]\n",
        "  q.append(x1)\n",
        "  x1= not_gate.compute_output(np.array(q))\n",
        "\n",
        "  x2=or_gate.compute_output(p)\n",
        "  y=and_gate.compute_output(np.array([x1,x2]))\n",
        "  return y\n",
        "\n",
        "print(xor(0,0))\n",
        "print(xor(0,1))\n",
        "print(xor(1,0))\n",
        "print(xor(1,1))"
      ],
      "metadata": {
        "id": "NJD31tegXK0U",
        "colab": {
          "base_uri": "https://localhost:8080/"
        },
        "outputId": "2bcdfe9f-1775-4dde-b723-e8a07ab7746a"
      },
      "execution_count": 21,
      "outputs": [
        {
          "output_type": "stream",
          "name": "stdout",
          "text": [
            "0\n",
            "1\n",
            "1\n",
            "0\n"
          ]
        }
      ]
    },
    {
      "cell_type": "code",
      "source": [
        "def XOR_mulinp(a,b,c,d):\n",
        "  x1=xor(a,b)\n",
        "  x2=xor(x1,c)\n",
        "  x3=xor(x2,d)\n",
        "  return x3\n",
        "\n",
        "p=randint(0,1)\n",
        "q=randint(0,1)\n",
        "r=randint(0,1)\n",
        "s=randint(0,1)\n",
        "o=XOR_mulinp(p,q,r,s)\n",
        "\n",
        "print(f'For Input:',p,q,r,s,'Output=',o)"
      ],
      "metadata": {
        "id": "vKCfKkn_4Bj1",
        "colab": {
          "base_uri": "https://localhost:8080/"
        },
        "outputId": "937150b5-be93-453a-a53d-d4fd8b7d445b"
      },
      "execution_count": 22,
      "outputs": [
        {
          "output_type": "stream",
          "name": "stdout",
          "text": [
            "For Input: 1 1 1 0 Output= 1\n"
          ]
        }
      ]
    }
  ]
}