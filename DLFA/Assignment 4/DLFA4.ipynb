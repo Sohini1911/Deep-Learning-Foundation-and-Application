{
  "cells": [
    {
      "cell_type": "code",
      "execution_count": null,
      "metadata": {
        "id": "eVg5EBWHRc3r"
      },
      "outputs": [],
      "source": [
        "import torch\n",
        "import torch.nn as nn\n",
        "import torch.optim as optim\n",
        "import torchvision\n",
        "import torchvision.transforms as transforms\n",
        "import matplotlib.pyplot as plt\n",
        "import numpy as np\n",
        "import random"
      ]
    },
    {
      "cell_type": "code",
      "execution_count": null,
      "metadata": {
        "id": "-TbLscBs6rMe"
      },
      "outputs": [],
      "source": [
        "seed = 42\n",
        "torch.manual_seed(seed)\n",
        "torch.cuda.manual_seed(seed)\n",
        "torch.cuda.manual_seed_all(seed)\n",
        "np.random.seed(seed)\n",
        "random.seed(seed)\n",
        "torch.backends.cudnn.benchmark = False\n",
        "torch.backends.cudnn.deterministic = True"
      ]
    },
    {
      "cell_type": "markdown",
      "source": [
        "Downloading Dataset"
      ],
      "metadata": {
        "id": "5QwV7ab6FqOZ"
      }
    },
    {
      "cell_type": "code",
      "execution_count": null,
      "metadata": {
        "id": "INWFYqg0Umkt"
      },
      "outputs": [],
      "source": [
        "from torchvision import datasets\n",
        "from torchvision.transforms import ToTensor\n",
        "\n",
        "\n",
        "transform = transforms.Compose([\n",
        "    transforms.ToTensor()\n",
        "])\n",
        "\n",
        "train_data = datasets.MNIST(root = './data',train = True,transform = ToTensor(),download = True,)\n",
        "test_data = datasets.MNIST(root = './data',train = False,transform = ToTensor())"
      ]
    },
    {
      "cell_type": "code",
      "execution_count": null,
      "metadata": {
        "colab": {
          "base_uri": "https://localhost:8080/"
        },
        "id": "0ZffkXTz_2um",
        "outputId": "957cebdc-8084-4526-c55f-809bd20bf4a8"
      },
      "outputs": [
        {
          "name": "stdout",
          "output_type": "stream",
          "text": [
            "Dataset MNIST\n",
            "    Number of datapoints: 60000\n",
            "    Root location: ./data\n",
            "    Split: Train\n",
            "    StandardTransform\n",
            "Transform: ToTensor()\n"
          ]
        }
      ],
      "source": [
        "print(train_data)"
      ]
    },
    {
      "cell_type": "code",
      "execution_count": null,
      "metadata": {
        "colab": {
          "base_uri": "https://localhost:8080/"
        },
        "id": "KIlTJkRCAAq_",
        "outputId": "37375c98-7a26-450a-83a3-5f42837b28e8"
      },
      "outputs": [
        {
          "name": "stdout",
          "output_type": "stream",
          "text": [
            "Dataset MNIST\n",
            "    Number of datapoints: 10000\n",
            "    Root location: ./data\n",
            "    Split: Test\n",
            "    StandardTransform\n",
            "Transform: ToTensor()\n"
          ]
        }
      ],
      "source": [
        "print(test_data)"
      ]
    },
    {
      "cell_type": "markdown",
      "source": [
        "Dataloader and printing the digits"
      ],
      "metadata": {
        "id": "oVeo96cEFvYo"
      }
    },
    {
      "cell_type": "code",
      "execution_count": null,
      "metadata": {
        "colab": {
          "base_uri": "https://localhost:8080/",
          "height": 171
        },
        "id": "UENsSZs69978",
        "outputId": "ece18694-270b-454b-d91e-c209bd04e220"
      },
      "outputs": [
        {
          "data": {
            "image/png": "[encoded data removed]",
            "text/plain": [
              "<Figure size 1400x600 with 1 Axes>"
            ]
          },
          "metadata": {},
          "output_type": "display_data"
        }
      ],
      "source": [
        "#Generating data loaders from the corresponding datasets\n",
        "batch_size = 256\n",
        "\n",
        "#without normalisation\n",
        "train_loader = torch.utils.data.DataLoader(train_data, shuffle=True, batch_size=batch_size)\n",
        "test_loader = torch.utils.data.DataLoader(test_data, batch_size=batch_size)\n",
        "\n",
        "plt.rcParams['figure.figsize'] = 14, 6\n",
        "\n",
        "dataiter = iter(train_loader)\n",
        "images, labels = next(dataiter)\n",
        "plt.imshow(np.transpose(torchvision.utils.make_grid(\n",
        "  images[:10], normalize=True, padding=1, nrow=10).numpy(), (1, 2, 0)))\n",
        "plt.axis('off')\n",
        "plt.title('Without Normalisation')\n",
        "plt.show()\n"
      ]
    },
    {
      "cell_type": "markdown",
      "metadata": {
        "id": "gE48yC6wfM6q"
      },
      "source": [
        "CNN-Vanilla"
      ]
    },
    {
      "cell_type": "code",
      "execution_count": null,
      "metadata": {
        "colab": {
          "base_uri": "https://localhost:8080/"
        },
        "id": "DdA1Lnc1A_XJ",
        "outputId": "05230643-f372-48b7-a640-ba1562726eb6"
      },
      "outputs": [
        {
          "name": "stdout",
          "output_type": "stream",
          "text": [
            "torch.Size([1, 10])\n"
          ]
        }
      ],
      "source": [
        "class CNNVanilla(nn.Module):\n",
        "    def __init__(self, n_channels=8):\n",
        "        super(CNNVanilla, self).__init__()\n",
        "\n",
        "        self.n_channels = n_channels\n",
        "        # --- Conv layer Set 1\n",
        "        self.l1_conv = nn.Conv2d(in_channels=1,out_channels=n_channels,kernel_size=3,stride=1,padding=1,)\n",
        "        self.l1_relu =  nn.ReLU()\n",
        "        self.l1_pool =  nn.MaxPool2d(kernel_size=2)\n",
        "        # --- Conv layer Set 2\n",
        "        self.l2_conv = nn.Conv2d(n_channels, n_channels, 3, 1, 1)\n",
        "        self.l2_relu =  nn.ReLU()\n",
        "        self.l2_pool =  nn.MaxPool2d(kernel_size=2)\n",
        "        # --- Conv layer Set 3\n",
        "        self.l3_conv = nn.Conv2d(n_channels, n_channels, 3, 1, 1)\n",
        "        self.l3_relu =  nn.ReLU()\n",
        "        self.l3_pool =  nn.MaxPool2d(kernel_size=2)\n",
        "        # --- Conv layer Set 4\n",
        "        self.l4_conv = nn.Conv2d(n_channels, n_channels, 3, 1, 1)\n",
        "        self.l4_relu =  nn.ReLU()\n",
        "        self.l4_pool =  nn.MaxPool2d(kernel_size=2)\n",
        "        # --- Conv layer Set 5\n",
        "        self.l5_conv = nn.Conv2d(n_channels, n_channels, 3, 1, 1)\n",
        "        self.l5_relu =  nn.ReLU()\n",
        "        self.l5_pool =  nn.MaxPool2d(kernel_size=2)\n",
        "        # --- FCL\n",
        "        self.fc_flat = nn.Flatten()\t\t\t# ------> Flatten ----->\n",
        "        self.fc_lin1 = nn.Linear(n_channels * 3 * 3, 128)\t\t#  ---------> Linear(512) ------>\n",
        "        self.fc_relu = nn.ReLU()                #  ---------> ReLu ------->\n",
        "        self.fc_lin2 = nn.Linear(128, 10)\t\t\t\t# ----------> Linear(10) ------>\n",
        "\n",
        "\n",
        "    def forward(self, x):\n",
        "        x = self.l1_pool(self.l1_relu(self.l1_conv(x)))\n",
        "        x = (self.l2_relu(self.l2_conv(x)))\n",
        "        x = self.l3_pool(self.l3_relu(self.l3_conv(x)))\n",
        "        x = (self.l4_relu(self.l4_conv(x)))\n",
        "        x = self.l5_pool(self.l5_relu(self.l5_conv(x)))\n",
        "\n",
        "        x = x.view(-1, self.n_channels * 3 * 3)\n",
        "        x = self.fc_lin1(x)\n",
        "        x = self.fc_relu(x)\n",
        "        x = self.fc_lin2(x)\n",
        "        return x    # return x for visualization\n",
        "\n",
        "cnn = CNNVanilla()\n",
        "print(cnn(images[0,:,:,:]).shape)"
      ]
    },
    {
      "cell_type": "markdown",
      "source": [
        "CNN-ResNet"
      ],
      "metadata": {
        "id": "E5OhQqTZF20Z"
      }
    },
    {
      "cell_type": "code",
      "execution_count": null,
      "metadata": {
        "id": "yh_BFVxcjfV0"
      },
      "outputs": [],
      "source": [
        "class ResidualBlock(nn.Module):\n",
        "    def __init__(self, in_channels, out_channels):\n",
        "        super(ResidualBlock, self).__init__()\n",
        "        self.conv1 = nn.Conv2d(in_channels, out_channels, kernel_size=3, padding=1)\n",
        "        self.conv2 = nn.Conv2d(out_channels, out_channels, kernel_size=3, padding=1)\n",
        "        self.relu = nn.ReLU()\n",
        "\n",
        "    def forward(self, x):\n",
        "        residual = x\n",
        "        x = self.relu(self.conv1(x))\n",
        "        x = self.conv2(x)\n",
        "        x = x + residual  # Shortcut connection\n",
        "        x = self.relu(x)\n",
        "        return x\n"
      ]
    },
    {
      "cell_type": "code",
      "execution_count": null,
      "metadata": {
        "colab": {
          "base_uri": "https://localhost:8080/"
        },
        "id": "r-E5uhi2nKN3",
        "outputId": "3ec2293d-4614-49ee-faa2-af868481f858"
      },
      "outputs": [
        {
          "name": "stdout",
          "output_type": "stream",
          "text": [
            "torch.Size([1, 10])\n"
          ]
        }
      ],
      "source": [
        "class CNN_ResNet(nn.Module):\n",
        "    def __init__(self, in_channels=1, num_classes=10, n_channels=8):\n",
        "        self.n_channels = n_channels\n",
        "        super(CNN_ResNet, self).__init__()\n",
        "        self.conv1 = nn.Conv2d(in_channels,out_channels=n_channels, kernel_size=3, padding=1)\n",
        "        self.pool = nn.MaxPool2d(2, 2)\n",
        "        self.resnet1 = ResidualBlock(n_channels, n_channels)\n",
        "        self.resnet2 = ResidualBlock(n_channels, n_channels)\n",
        "        self.fc_flat = nn.Flatten()     # ------> Flatten ----->\n",
        "        self.fc_lin1 = nn.Linear(n_channels * 3* 3, 128)   #  ---------> Linear(512) ------>\n",
        "        self.fc_relu = nn.ReLU()                #  ---------> ReLu ------->\n",
        "        self.fc_lin2 = nn.Linear(128, 10)\n",
        "        self.relu = nn.ReLU()\n",
        "\n",
        "    def forward(self, x):\n",
        "        x = self.relu(self.pool(self.conv1(x)))\n",
        "        x = self.pool(self.resnet1(x))\n",
        "        x = self.pool(self.resnet2(x))\n",
        "        x = x.view(-1, self.n_channels * 3 * 3)   #flatten\n",
        "        x = self.fc_lin1(x)\n",
        "        x = self.fc_relu(x)\n",
        "        x = self.fc_lin2(x)\n",
        "        return x\n",
        "\n",
        "resnet = CNN_ResNet()\n",
        "y_hat2 = resnet(images[0, :, :, :])\n",
        "print(y_hat2.shape)"
      ]
    },
    {
      "cell_type": "markdown",
      "source": [
        "Defining Training and evalution loops"
      ],
      "metadata": {
        "id": "Vj_nURyGF6CE"
      }
    },
    {
      "cell_type": "code",
      "execution_count": null,
      "metadata": {
        "id": "uQWmki59wzGK"
      },
      "outputs": [],
      "source": [
        "def train(model, criterion, optimizer, trainloader, epochs):\n",
        "    model.train()\n",
        "    train_losses= []\n",
        "    for epoch in range(epochs):\n",
        "        running_loss = 0.0\n",
        "        for inputs, labels in trainloader:\n",
        "            inputs, labels = inputs.to('cuda'), labels.to('cuda')\n",
        "            optimizer.zero_grad()\n",
        "            outputs = model(inputs)\n",
        "            loss = criterion(outputs, labels)\n",
        "            loss.backward()\n",
        "            optimizer.step()\n",
        "            running_loss += loss.item()\n",
        "        print(f\"Epoch {epoch+1}/{epochs}, Loss: {running_loss/len(trainloader)}\")\n",
        "        train_losses.append(running_loss/len(train_loader))\n",
        "    return train_losses\n",
        "\n",
        "def evaluate(model, testloader):\n",
        "    model.eval()\n",
        "    correct = 0\n",
        "    total = 0\n",
        "    with torch.no_grad():\n",
        "        for inputs, labels in testloader:\n",
        "            inputs, labels = inputs.to('cuda'), labels.to('cuda')\n",
        "            outputs = model(inputs)\n",
        "            _, predicted = torch.max(outputs.data, 1)\n",
        "            total += labels.size(0)\n",
        "            correct += (predicted == labels).sum().item()\n",
        "    accuracy = 100 * correct / total\n",
        "    print(f\"Accuracy on test set: {accuracy:.2f}%\")\n"
      ]
    },
    {
      "cell_type": "code",
      "execution_count": null,
      "metadata": {
        "id": "HnGcwoh5SVRj"
      },
      "outputs": [],
      "source": [
        "# Instantiate models\n",
        "cnn_vanilla = CNNVanilla()\n",
        "cnn_resnet = CNN_ResNet()\n",
        "\n",
        "cnn_vanilla = cnn_vanilla.to('cuda')\n",
        "cnn_resnet = cnn_resnet.to('cuda')\n",
        "\n",
        "# Define loss function and optimizer\n",
        "epochs=50\n",
        "criterion = nn.CrossEntropyLoss()\n",
        "optimizer_vanilla = optim.Adam(cnn_vanilla.parameters(), lr=0.001)\n",
        "optimizer_resnet = optim.Adam(cnn_resnet.parameters(), lr=0.001)"
      ]
    },
    {
      "cell_type": "markdown",
      "source": [
        "Summary of Models"
      ],
      "metadata": {
        "id": "-dKfYVzAGRcQ"
      }
    },
    {
      "cell_type": "code",
      "execution_count": null,
      "metadata": {
        "colab": {
          "base_uri": "https://localhost:8080/"
        },
        "id": "nsUXOrzm0iGE",
        "outputId": "e10e5a12-f026-4e69-d8c4-dd103f61fefc"
      },
      "outputs": [
        {
          "name": "stdout",
          "output_type": "stream",
          "text": [
            "Total number of parameters for CNN-Vanilla : 13050\n",
            "----------------------------------------------------------------\n",
            "        Layer (type)               Output Shape         Param #\n",
            "================================================================\n",
            "            Conv2d-1            [-1, 8, 28, 28]              80\n",
            "              ReLU-2            [-1, 8, 28, 28]               0\n",
            "         MaxPool2d-3            [-1, 8, 14, 14]               0\n",
            "            Conv2d-4            [-1, 8, 14, 14]             584\n",
            "              ReLU-5            [-1, 8, 14, 14]               0\n",
            "            Conv2d-6            [-1, 8, 14, 14]             584\n",
            "              ReLU-7            [-1, 8, 14, 14]               0\n",
            "         MaxPool2d-8              [-1, 8, 7, 7]               0\n",
            "            Conv2d-9              [-1, 8, 7, 7]             584\n",
            "             ReLU-10              [-1, 8, 7, 7]               0\n",
            "           Conv2d-11              [-1, 8, 7, 7]             584\n",
            "             ReLU-12              [-1, 8, 7, 7]               0\n",
            "        MaxPool2d-13              [-1, 8, 3, 3]               0\n",
            "           Linear-14                  [-1, 128]           9,344\n",
            "             ReLU-15                  [-1, 128]               0\n",
            "           Linear-16                   [-1, 10]           1,290\n",
            "================================================================\n",
            "Total params: 13,050\n",
            "Trainable params: 13,050\n",
            "Non-trainable params: 0\n",
            "----------------------------------------------------------------\n",
            "Input size (MB): 0.00\n",
            "Forward/backward pass size (MB): 0.17\n",
            "Params size (MB): 0.05\n",
            "Estimated Total Size (MB): 0.23\n",
            "----------------------------------------------------------------\n",
            "Total number of parameters for CNN-Resnet : 13050\n",
            "----------------------------------------------------------------\n",
            "        Layer (type)               Output Shape         Param #\n",
            "================================================================\n",
            "            Conv2d-1            [-1, 8, 28, 28]              80\n",
            "         MaxPool2d-2            [-1, 8, 14, 14]               0\n",
            "              ReLU-3            [-1, 8, 14, 14]               0\n",
            "            Conv2d-4            [-1, 8, 14, 14]             584\n",
            "              ReLU-5            [-1, 8, 14, 14]               0\n",
            "            Conv2d-6            [-1, 8, 14, 14]             584\n",
            "              ReLU-7            [-1, 8, 14, 14]               0\n",
            "     ResidualBlock-8            [-1, 8, 14, 14]               0\n",
            "         MaxPool2d-9              [-1, 8, 7, 7]               0\n",
            "           Conv2d-10              [-1, 8, 7, 7]             584\n",
            "             ReLU-11              [-1, 8, 7, 7]               0\n",
            "           Conv2d-12              [-1, 8, 7, 7]             584\n",
            "             ReLU-13              [-1, 8, 7, 7]               0\n",
            "    ResidualBlock-14              [-1, 8, 7, 7]               0\n",
            "        MaxPool2d-15              [-1, 8, 3, 3]               0\n",
            "           Linear-16                  [-1, 128]           9,344\n",
            "             ReLU-17                  [-1, 128]               0\n",
            "           Linear-18                   [-1, 10]           1,290\n",
            "================================================================\n",
            "Total params: 13,050\n",
            "Trainable params: 13,050\n",
            "Non-trainable params: 0\n",
            "----------------------------------------------------------------\n",
            "Input size (MB): 0.00\n",
            "Forward/backward pass size (MB): 0.15\n",
            "Params size (MB): 0.05\n",
            "Estimated Total Size (MB): 0.20\n",
            "----------------------------------------------------------------\n"
          ]
        }
      ],
      "source": [
        "from torchsummary import summary\n",
        "total_params = sum(p.numel() for p in cnn_vanilla.parameters())\n",
        "print(f\"Total number of parameters for CNN-Vanilla : {total_params}\")\n",
        "summary(cnn_vanilla,(1,28,28))\n",
        "total_params = sum(p.numel() for p in cnn_resnet.parameters())\n",
        "print(f\"Total number of parameters for CNN-Resnet : {total_params}\")\n",
        "summary(cnn_resnet,(1,28,28))\n"
      ]
    },
    {
      "cell_type": "markdown",
      "source": [
        "Train and evaluate CNN-Vanilla"
      ],
      "metadata": {
        "id": "kAHJertWGzc3"
      }
    },
    {
      "cell_type": "code",
      "execution_count": null,
      "metadata": {
        "colab": {
          "base_uri": "https://localhost:8080/",
          "height": 1000
        },
        "id": "oqNG5TA8tozg",
        "outputId": "a51f36de-b595-4c0f-d391-421deb80e8d5"
      },
      "outputs": [
        {
          "name": "stdout",
          "output_type": "stream",
          "text": [
            "Training CNN-Vanilla:\n",
            "Epoch 1/50, Loss: 0.9761244615975847\n",
            "Epoch 2/50, Loss: 0.2519268417612035\n",
            "Epoch 3/50, Loss: 0.17838164482344973\n",
            "Epoch 4/50, Loss: 0.1408456676817955\n",
            "Epoch 5/50, Loss: 0.12304177063893765\n",
            "Epoch 6/50, Loss: 0.10935748706155635\n",
            "Epoch 7/50, Loss: 0.09785971357784373\n",
            "Epoch 8/50, Loss: 0.08819040564939062\n",
            "Epoch 9/50, Loss: 0.07878881459857555\n",
            "Epoch 10/50, Loss: 0.07494902645653867\n",
            "Epoch 11/50, Loss: 0.0676718099082404\n",
            "Epoch 12/50, Loss: 0.06381981098588477\n",
            "Epoch 13/50, Loss: 0.058021821152973684\n",
            "Epoch 14/50, Loss: 0.05539839327176835\n",
            "Epoch 15/50, Loss: 0.05247074815821141\n",
            "Epoch 16/50, Loss: 0.04960295494170265\n",
            "Epoch 17/50, Loss: 0.0485257507777436\n",
            "Epoch 18/50, Loss: 0.04477119783454753\n",
            "Epoch 19/50, Loss: 0.04353786984934135\n",
            "Epoch 20/50, Loss: 0.04098673242322625\n",
            "Epoch 21/50, Loss: 0.03863030393072899\n",
            "Epoch 22/50, Loss: 0.03605512384959358\n",
            "Epoch 23/50, Loss: 0.034411481738169776\n",
            "Epoch 24/50, Loss: 0.033464404052876415\n",
            "Epoch 25/50, Loss: 0.03334358222386304\n",
            "Epoch 26/50, Loss: 0.03188398218852408\n",
            "Epoch 27/50, Loss: 0.03098222258243155\n",
            "Epoch 28/50, Loss: 0.029098123947079193\n",
            "Epoch 29/50, Loss: 0.028097523671594706\n",
            "Epoch 30/50, Loss: 0.026246623628515195\n",
            "Epoch 31/50, Loss: 0.025861261435289017\n",
            "Epoch 32/50, Loss: 0.02294220926160825\n",
            "Epoch 33/50, Loss: 0.022868796773849332\n",
            "Epoch 34/50, Loss: 0.02280892118504469\n",
            "Epoch 35/50, Loss: 0.021703969182922167\n",
            "Epoch 36/50, Loss: 0.02028699723230873\n",
            "Epoch 37/50, Loss: 0.02117068012160784\n",
            "Epoch 38/50, Loss: 0.018118816298095787\n",
            "Epoch 39/50, Loss: 0.018490574401902393\n",
            "Epoch 40/50, Loss: 0.017661896582811754\n",
            "Epoch 41/50, Loss: 0.016654024491126233\n",
            "Epoch 42/50, Loss: 0.016879550952890374\n",
            "Epoch 43/50, Loss: 0.014584247405303919\n",
            "Epoch 44/50, Loss: 0.01432416888097539\n",
            "Epoch 45/50, Loss: 0.014960730051066963\n",
            "Epoch 46/50, Loss: 0.012504421351378426\n",
            "Epoch 47/50, Loss: 0.01476139828607321\n",
            "Epoch 48/50, Loss: 0.012949271910041174\n",
            "Epoch 49/50, Loss: 0.0115775622982294\n",
            "Epoch 50/50, Loss: 0.01409410607475946\n",
            "Evaluation CNN-Vanilla:\n",
            "Accuracy on test set: 98.43%\n"
          ]
        },
        {
          "data": {
            "text/plain": [
              "Text(0, 0.5, 'Training loss')"
            ]
          },
          "execution_count": 19,
          "metadata": {},
          "output_type": "execute_result"
        },
        {
          "data": {
            "image/png": "[encoded data removed]",
            "text/plain": [
              "<Figure size 1400x600 with 1 Axes>"
            ]
          },
          "metadata": {},
          "output_type": "display_data"
        }
      ],
      "source": [
        "# Train and evaluate CNN-Vanilla\n",
        "print(\"Training CNN-Vanilla:\")\n",
        "train_losses_vanilla=train(cnn_vanilla, criterion, optimizer_vanilla, train_loader,epochs)\n",
        "print(\"Evaluation CNN-Vanilla:\")\n",
        "evaluate(cnn_vanilla, test_loader)\n",
        "\n",
        "plt.plot(range(1,epochs+1), train_losses_vanilla)\n",
        "plt.xlabel(\"Number of epochs\")\n",
        "plt.ylabel(\"Training loss\")\n"
      ]
    },
    {
      "cell_type": "markdown",
      "source": [
        "Train and evaluate CNN-ResNet"
      ],
      "metadata": {
        "id": "Q3hzNhGHIetu"
      }
    },
    {
      "cell_type": "code",
      "execution_count": null,
      "metadata": {
        "colab": {
          "base_uri": "https://localhost:8080/",
          "height": 1000
        },
        "id": "Wjf-q16M1G_W",
        "outputId": "5232edb9-8d47-4fa4-d88a-8897c557bb80"
      },
      "outputs": [
        {
          "name": "stdout",
          "output_type": "stream",
          "text": [
            "Training CNN-ResNet:\n",
            "Epoch 1/50, Loss: 0.805587647760168\n",
            "Epoch 2/50, Loss: 0.20229874332534506\n",
            "Epoch 3/50, Loss: 0.13277557045221328\n",
            "Epoch 4/50, Loss: 0.10319299786648851\n",
            "Epoch 5/50, Loss: 0.08892580573546126\n",
            "Epoch 6/50, Loss: 0.07734136969802227\n",
            "Epoch 7/50, Loss: 0.07084020578322259\n",
            "Epoch 8/50, Loss: 0.06260268652534232\n",
            "Epoch 9/50, Loss: 0.059412377434683604\n",
            "Epoch 10/50, Loss: 0.056660340203249705\n",
            "Epoch 11/50, Loss: 0.05424518617305984\n",
            "Epoch 12/50, Loss: 0.049169216144512945\n",
            "Epoch 13/50, Loss: 0.04833057006385098\n",
            "Epoch 14/50, Loss: 0.04361765031167801\n",
            "Epoch 15/50, Loss: 0.042441547511422886\n",
            "Epoch 16/50, Loss: 0.0398213991578272\n",
            "Epoch 17/50, Loss: 0.03723645491842577\n",
            "Epoch 18/50, Loss: 0.03605773919162915\n",
            "Epoch 19/50, Loss: 0.034211552940665725\n",
            "Epoch 20/50, Loss: 0.03265385717312072\n",
            "Epoch 21/50, Loss: 0.03231986639030436\n",
            "Epoch 22/50, Loss: 0.03136911250730144\n",
            "Epoch 23/50, Loss: 0.029832398805252097\n",
            "Epoch 24/50, Loss: 0.02851523892914361\n",
            "Epoch 25/50, Loss: 0.02579776517888333\n",
            "Epoch 26/50, Loss: 0.02606196698356182\n",
            "Epoch 27/50, Loss: 0.023760175871405196\n",
            "Epoch 28/50, Loss: 0.024160647455682145\n",
            "Epoch 29/50, Loss: 0.022599676300949872\n",
            "Epoch 30/50, Loss: 0.022028549227546504\n",
            "Epoch 31/50, Loss: 0.020787528320711027\n",
            "Epoch 32/50, Loss: 0.019712826785720648\n",
            "Epoch 33/50, Loss: 0.018905430856319343\n",
            "Epoch 34/50, Loss: 0.019823413233252915\n",
            "Epoch 35/50, Loss: 0.018076888078506638\n",
            "Epoch 36/50, Loss: 0.019377835708709948\n",
            "Epoch 37/50, Loss: 0.0162894758068897\n",
            "Epoch 38/50, Loss: 0.015608794804404866\n",
            "Epoch 39/50, Loss: 0.016385839686560582\n",
            "Epoch 40/50, Loss: 0.015945075482050788\n",
            "Epoch 41/50, Loss: 0.014046920696025754\n",
            "Epoch 42/50, Loss: 0.013891659485562605\n",
            "Epoch 43/50, Loss: 0.0132876122917762\n",
            "Epoch 44/50, Loss: 0.01271031607744938\n",
            "Epoch 45/50, Loss: 0.0119654926097397\n",
            "Epoch 46/50, Loss: 0.011833688432965032\n",
            "Epoch 47/50, Loss: 0.014424494779520134\n",
            "Epoch 48/50, Loss: 0.012241905977196516\n",
            "Epoch 49/50, Loss: 0.009968719807852237\n",
            "Epoch 50/50, Loss: 0.00970513673927734\n",
            "Evaluation CNN-ResNet:\n",
            "Accuracy on test set: 98.66%\n"
          ]
        },
        {
          "data": {
            "text/plain": [
              "Text(0, 0.5, 'Training loss')"
            ]
          },
          "execution_count": 20,
          "metadata": {},
          "output_type": "execute_result"
        },
        {
          "data": {
            "image/png": "[encoded data removed]",
            "text/plain": [
              "<Figure size 1400x600 with 1 Axes>"
            ]
          },
          "metadata": {},
          "output_type": "display_data"
        }
      ],
      "source": [
        "# Train and evaluate CNN-ResNet\n",
        "print(\"Training CNN-ResNet:\")\n",
        "train_losses_resnet=train(cnn_resnet, criterion, optimizer_resnet, train_loader,epochs)\n",
        "print(\"Evaluation CNN-ResNet:\")\n",
        "evaluate(cnn_resnet, test_loader)\n",
        "\n",
        "plt.plot(range(1,epochs+1), train_losses_resnet)\n",
        "plt.xlabel(\"Number of epochs\")\n",
        "plt.ylabel(\"Training loss\")"
      ]
    },
    {
      "cell_type": "markdown",
      "metadata": {
        "id": "nGdakybbuhGZ"
      },
      "source": [
        "So we see that accuracy of Resnet model is better than CNN-Vanilla.Hence we will use ResNet as our model for performing the other experiments."
      ]
    },
    {
      "cell_type": "markdown",
      "metadata": {
        "id": "LackCHpedmfa"
      },
      "source": [
        "Experiment 2: Study the Effect of Data Normalization"
      ]
    },
    {
      "cell_type": "markdown",
      "source": [
        "Finding mean and std to normalise dataset"
      ],
      "metadata": {
        "id": "p5jTB5H1IZ3H"
      }
    },
    {
      "cell_type": "code",
      "execution_count": null,
      "metadata": {
        "id": "mfK6y6UzZOKO"
      },
      "outputs": [],
      "source": [
        "pixel_values = []\n",
        "\n",
        "# Iterate through the dataset to collect pixel values\n",
        "for image, label in train_data:\n",
        "    pixel_values.append(image.numpy())\n",
        "\n",
        "# Convert list to numpy array\n",
        "pixel_values = np.array(pixel_values)\n",
        "\n",
        "# Compute mean and standard deviation along each channel (assuming grayscale images)\n",
        "mean = np.mean(pixel_values)\n",
        "std = np.std(pixel_values)"
      ]
    },
    {
      "cell_type": "code",
      "execution_count": null,
      "metadata": {
        "id": "VF1TD65DZpFj"
      },
      "outputs": [],
      "source": [
        "transform_with_normalization = transforms.Compose([\n",
        "    transforms.ToTensor(),\n",
        "    transforms.Normalize(mean, std)\n",
        "])"
      ]
    },
    {
      "cell_type": "code",
      "execution_count": null,
      "metadata": {
        "id": "Nh5AnF-paEdm"
      },
      "outputs": [],
      "source": [
        "train_dataN = datasets.MNIST(root='./data', train=True, download=True, transform=transform_with_normalization)\n",
        "test_dataN = datasets.MNIST(root='./data', train=False, download=True, transform=transform_with_normalization)  # Using normalization\n",
        "\n",
        "# with Normalisation\n",
        "batch_size=256\n",
        "train_loaderN = torch.utils.data.DataLoader(train_dataN, shuffle=True, batch_size=batch_size)\n",
        "test_loaderN = torch.utils.data.DataLoader(test_dataN, batch_size=batch_size)"
      ]
    },
    {
      "cell_type": "code",
      "execution_count": null,
      "metadata": {
        "colab": {
          "base_uri": "https://localhost:8080/",
          "height": 171
        },
        "id": "qh6JofTmap3h",
        "outputId": "66766b80-97ec-4c29-cb91-b6f278f3063c"
      },
      "outputs": [
        {
          "data": {
            "image/png": "[encoded data removed]",
            "text/plain": [
              "<Figure size 1400x600 with 1 Axes>"
            ]
          },
          "metadata": {},
          "output_type": "display_data"
        }
      ],
      "source": [
        "plt.rcParams['figure.figsize'] = 14, 6\n",
        "\n",
        "dataiter = iter(train_loaderN)\n",
        "X, y = next(dataiter)\n",
        "plt.imshow(np.transpose(torchvision.utils.make_grid(\n",
        "  X[:10], normalize=True, padding=1, nrow=10).numpy(), (1, 2, 0)))\n",
        "plt.axis('off')\n",
        "plt.title('With Normalisation')\n",
        "plt.show()"
      ]
    },
    {
      "cell_type": "markdown",
      "source": [
        "Training and evaluating Normalised dataset"
      ],
      "metadata": {
        "id": "Vke4bkFTIYPN"
      }
    },
    {
      "cell_type": "code",
      "execution_count": null,
      "metadata": {
        "colab": {
          "base_uri": "https://localhost:8080/",
          "height": 783
        },
        "id": "XWSXfnLBbU9p",
        "outputId": "8a6b4994-773e-49d6-c3f8-95f1e1660014"
      },
      "outputs": [
        {
          "name": "stdout",
          "output_type": "stream",
          "text": [
            "Training CNN-ResNet:\n"
          ]
        },
        {
          "name": "stdout",
          "output_type": "stream",
          "text": [
            "Epoch 1/50, Loss: 0.6484024709209483\n",
            "Epoch 2/50, Loss: 0.14702002881689274\n",
            "Epoch 3/50, Loss: 0.10393430898164181\n",
            "Epoch 4/50, Loss: 0.08318741839141287\n",
            "Epoch 5/50, Loss: 0.07060179858607181\n",
            "Epoch 6/50, Loss: 0.06307626355518686\n",
            "Epoch 7/50, Loss: 0.0553758335517759\n",
            "Epoch 8/50, Loss: 0.05297935221423494\n",
            "Epoch 9/50, Loss: 0.048595332025371966\n",
            "Epoch 10/50, Loss: 0.042626540909739254\n",
            "Epoch 11/50, Loss: 0.039872268928175275\n",
            "Epoch 12/50, Loss: 0.03768440044703002\n",
            "Epoch 13/50, Loss: 0.035619099608602676\n",
            "Epoch 14/50, Loss: 0.03389414274629126\n",
            "Epoch 15/50, Loss: 0.03248360952005742\n",
            "Epoch 16/50, Loss: 0.02972621902863079\n",
            "Epoch 17/50, Loss: 0.02867700754209085\n",
            "Epoch 18/50, Loss: 0.02614593227057064\n",
            "Epoch 19/50, Loss: 0.02453864065910432\n",
            "Epoch 20/50, Loss: 0.025388863275540952\n",
            "Epoch 21/50, Loss: 0.02251039818028345\n",
            "Epoch 22/50, Loss: 0.022663360712257153\n",
            "Epoch 23/50, Loss: 0.02107475284992301\n",
            "Epoch 24/50, Loss: 0.01985214458768593\n",
            "Epoch 25/50, Loss: 0.017650683222715048\n",
            "Epoch 26/50, Loss: 0.01941754474958524\n",
            "Epoch 27/50, Loss: 0.01829225951607557\n",
            "Epoch 28/50, Loss: 0.01568454677892968\n",
            "Epoch 29/50, Loss: 0.015878915534097145\n",
            "Epoch 30/50, Loss: 0.017610655613045426\n",
            "Epoch 31/50, Loss: 0.014121213843401996\n",
            "Epoch 32/50, Loss: 0.014368912942727354\n",
            "Epoch 33/50, Loss: 0.013020002887772514\n",
            "Epoch 34/50, Loss: 0.012956364803323324\n",
            "Epoch 35/50, Loss: 0.01190712738477506\n",
            "Epoch 36/50, Loss: 0.012875318442758648\n",
            "Epoch 37/50, Loss: 0.011557457250440146\n",
            "Epoch 38/50, Loss: 0.009927480516118057\n",
            "Epoch 39/50, Loss: 0.010253868848234019\n",
            "Epoch 40/50, Loss: 0.010495138135268057\n",
            "Epoch 41/50, Loss: 0.009463562389731684\n",
            "Epoch 42/50, Loss: 0.009302818230130372\n",
            "Epoch 43/50, Loss: 0.00992180288538951\n",
            "Epoch 44/50, Loss: 0.00909292045695846\n",
            "Epoch 45/50, Loss: 0.009808657078587628\n",
            "Epoch 46/50, Loss: 0.00828739877968551\n",
            "Epoch 47/50, Loss: 0.005760433790187272\n",
            "Epoch 48/50, Loss: 0.006566614961434908\n",
            "Epoch 49/50, Loss: 0.0069742055022791825\n",
            "Epoch 50/50, Loss: 0.007735135946905815\n",
            "Evaluation CNN-ResNet:\n",
            "Accuracy on test set: 99.03%\n"
          ]
        },
        {
          "data": {
            "text/plain": [
              "Text(0, 0.5, 'Training loss')"
            ]
          },
          "execution_count": 25,
          "metadata": {},
          "output_type": "execute_result"
        },
        {
          "data": {
            "image/png": "[encoded data removed]",
            "text/plain": [
              "<Figure size 1400x600 with 1 Axes>"
            ]
          },
          "metadata": {},
          "output_type": "display_data"
        }
      ],
      "source": [
        "# Train and evaluate CNN-ResNet\n",
        "cnn_resnetN = CNN_ResNet()\n",
        "cnn_resnetN = cnn_resnetN.to('cuda')\n",
        "\n",
        "optimizer_resnetN = optim.Adam(cnn_resnetN.parameters(), lr=0.001)\n",
        "print(\"Training CNN-ResNet:\")\n",
        "train_losses_resnetN=train(cnn_resnetN, criterion, optimizer_resnetN, train_loaderN,epochs)\n",
        "print(\"Evaluation CNN-ResNet:\")\n",
        "evaluate(cnn_resnetN, test_loaderN)\n",
        "\n",
        "plt.plot(range(1,epochs+1), train_losses_resnetN)\n",
        "plt.xlabel(\"Number of epochs\")\n",
        "plt.ylabel(\"Training loss\")"
      ]
    },
    {
      "cell_type": "markdown",
      "metadata": {
        "id": "FbjqrQz_B3bZ"
      },
      "source": [
        "Experiment 3: Comparing with different optimizers\n",
        "(a) Mini-batch gradient descent with no momentum, (b)\n",
        "Mini-batch gradient descent with momentum 0.9, and (c) ADAM optimizer."
      ]
    },
    {
      "cell_type": "code",
      "execution_count": null,
      "metadata": {
        "id": "3MxkA3EvB29K"
      },
      "outputs": [],
      "source": [
        "import torch.optim as optim\n",
        "\n",
        "# Define the best-performing network architecture and the chosen data normalization technique\n",
        "cnn_sgd = CNN_ResNet()\n",
        "cnn_sgd_momentum = CNN_ResNet()\n",
        "cnn_adam = CNN_ResNet()\n",
        "\n",
        "# Move the networks to the GPU\n",
        "cnn_sgd = cnn_sgd.to('cuda')\n",
        "cnn_sgd_momentum = cnn_sgd_momentum.to('cuda')\n",
        "cnn_adam = cnn_adam.to('cuda')\n",
        "\n",
        "batch_size_large=512\n",
        "train_loaderN_large = torch.utils.data.DataLoader(train_dataN, shuffle=True, batch_size=batch_size)\n",
        "test_loaderN_large = torch.utils.data.DataLoader(test_dataN, batch_size=batch_size)\n",
        "\n",
        "# Define the three optimizers\n",
        "optimizer_no_momentum = optim.SGD(cnn_sgd.parameters(), lr=0.001)\n",
        "optimizer_momentum = optim.SGD(cnn_sgd_momentum.parameters(), lr=0.001, momentum=0.9)\n",
        "optimizer_adam = optim.Adam(cnn_adam.parameters(), lr=0.001)"
      ]
    },
    {
      "cell_type": "markdown",
      "source": [
        "Training and evaluating Mini-batch gradient descent (no momentum)"
      ],
      "metadata": {
        "id": "6tPbJgYaIx4m"
      }
    },
    {
      "cell_type": "code",
      "execution_count": null,
      "metadata": {
        "id": "_EbRYkHd6rMp",
        "outputId": "2694c401-4e3c-41c8-a4c7-a4af03cf09d0"
      },
      "outputs": [
        {
          "name": "stdout",
          "output_type": "stream",
          "text": [
            "Training with Mini-batch gradient descent (no momentum):\n"
          ]
        },
        {
          "name": "stdout",
          "output_type": "stream",
          "text": [
            "Epoch 1/50, Loss: 2.3051189077661394\n",
            "Epoch 2/50, Loss: 2.251205005037024\n",
            "Epoch 3/50, Loss: 2.2141021515460726\n",
            "Epoch 4/50, Loss: 2.175894077788008\n",
            "Epoch 5/50, Loss: 2.1302180919241396\n",
            "Epoch 6/50, Loss: 2.072172954234671\n",
            "Epoch 7/50, Loss: 1.996814801337871\n",
            "Epoch 8/50, Loss: 1.8990167922161996\n",
            "Epoch 9/50, Loss: 1.7755892418800516\n",
            "Epoch 10/50, Loss: 1.6267614684206375\n",
            "Epoch 11/50, Loss: 1.4573340324645347\n",
            "Epoch 12/50, Loss: 1.2770408594861944\n",
            "Epoch 13/50, Loss: 1.0961448732842791\n",
            "Epoch 14/50, Loss: 0.9304797474374162\n",
            "Epoch 15/50, Loss: 0.7927686384383669\n",
            "Epoch 16/50, Loss: 0.6849908368384584\n",
            "Epoch 17/50, Loss: 0.6033082286094097\n",
            "Epoch 18/50, Loss: 0.5404425501823426\n",
            "Epoch 19/50, Loss: 0.49029789503584514\n",
            "Epoch 20/50, Loss: 0.44969758695744455\n",
            "Epoch 21/50, Loss: 0.4159506599953834\n",
            "Epoch 22/50, Loss: 0.3869010345732912\n",
            "Epoch 23/50, Loss: 0.36220293666454073\n",
            "Epoch 24/50, Loss: 0.341105761299742\n",
            "Epoch 25/50, Loss: 0.3224016951119646\n",
            "Epoch 26/50, Loss: 0.3063670238281818\n",
            "Epoch 27/50, Loss: 0.2924469214170537\n",
            "Epoch 28/50, Loss: 0.27945024802329693\n",
            "Epoch 29/50, Loss: 0.2683769436592751\n",
            "Epoch 30/50, Loss: 0.2581146326470882\n",
            "Epoch 31/50, Loss: 0.24909031245302646\n",
            "Epoch 32/50, Loss: 0.24035500605055626\n",
            "Epoch 33/50, Loss: 0.233104330047648\n",
            "Epoch 34/50, Loss: 0.226242004620268\n",
            "Epoch 35/50, Loss: 0.21972827724319824\n",
            "Epoch 36/50, Loss: 0.21417372068192098\n",
            "Epoch 37/50, Loss: 0.20854432903071668\n",
            "Epoch 38/50, Loss: 0.20372584617518363\n",
            "Epoch 39/50, Loss: 0.19914626063818627\n",
            "Epoch 40/50, Loss: 0.19486592947802645\n",
            "Epoch 41/50, Loss: 0.1907511832866263\n",
            "Epoch 42/50, Loss: 0.18681329095617255\n",
            "Epoch 43/50, Loss: 0.18299022976388324\n",
            "Epoch 44/50, Loss: 0.18016700231014415\n",
            "Epoch 45/50, Loss: 0.17671565676623202\n",
            "Epoch 46/50, Loss: 0.17366647713995995\n",
            "Epoch 47/50, Loss: 0.17121942946885493\n",
            "Epoch 48/50, Loss: 0.16799581225248092\n",
            "Epoch 49/50, Loss: 0.1658839522841129\n",
            "Epoch 50/50, Loss: 0.16300840653637622\n",
            "\n",
            "Evaluation on test set:\n",
            "Mini-batch gradient descent (no momentum):\n",
            "Accuracy on test set: 95.35%\n"
          ]
        }
      ],
      "source": [
        "# Train the network with each optimizer\n",
        "print(\"Training with Mini-batch gradient descent (no momentum):\")\n",
        "train_loss_sgd = train(cnn_sgd, criterion, optimizer_no_momentum, train_loaderN,epochs)\n",
        "\n",
        "print(\"\\nEvaluation on test set:\")\n",
        "print(\"Mini-batch gradient descent (no momentum):\")\n",
        "evaluate(cnn_sgd, test_loaderN)"
      ]
    },
    {
      "cell_type": "markdown",
      "source": [
        "Training and evaluating Mini-batch gradient descent (momentum 0.9)"
      ],
      "metadata": {
        "id": "2mtCx81bI7_j"
      }
    },
    {
      "cell_type": "code",
      "execution_count": null,
      "metadata": {
        "id": "635Nblg2Dig-",
        "outputId": "53eccddc-2ddb-4d3a-d525-5443d5e8a546"
      },
      "outputs": [
        {
          "name": "stdout",
          "output_type": "stream",
          "text": [
            "\n",
            "Training with Mini-batch gradient descent (momentum 0.9):\n",
            "Epoch 1/50, Loss: 1.928415032650562\n",
            "Epoch 2/50, Loss: 0.5726541136173492\n",
            "Epoch 3/50, Loss: 0.2731964146203183\n",
            "Epoch 4/50, Loss: 0.20458849541684415\n",
            "Epoch 5/50, Loss: 0.1744706243593642\n",
            "Epoch 6/50, Loss: 0.15218398591622392\n",
            "Epoch 7/50, Loss: 0.13721647576448764\n",
            "Epoch 8/50, Loss: 0.12442149668931961\n",
            "Epoch 9/50, Loss: 0.11674724046854262\n",
            "Epoch 10/50, Loss: 0.10794029096339611\n",
            "Epoch 11/50, Loss: 0.102811378700302\n",
            "Epoch 12/50, Loss: 0.09715269709679675\n",
            "Epoch 13/50, Loss: 0.09242836939210587\n",
            "Epoch 14/50, Loss: 0.0876563668647345\n",
            "Epoch 15/50, Loss: 0.08434116302969608\n",
            "Epoch 16/50, Loss: 0.08073519697373217\n",
            "Epoch 17/50, Loss: 0.07926243925665287\n",
            "Epoch 18/50, Loss: 0.07535338736277945\n",
            "Epoch 19/50, Loss: 0.07230698136573142\n",
            "Epoch 20/50, Loss: 0.07086031837190719\n",
            "Epoch 21/50, Loss: 0.06939682037113828\n",
            "Epoch 22/50, Loss: 0.06605454387658453\n",
            "Epoch 23/50, Loss: 0.06491129166109764\n",
            "Epoch 24/50, Loss: 0.06350759337557123\n",
            "Epoch 25/50, Loss: 0.061981012212469225\n",
            "Epoch 26/50, Loss: 0.061595966722419924\n",
            "Epoch 27/50, Loss: 0.05884892733252429\n",
            "Epoch 28/50, Loss: 0.059024996484847776\n",
            "Epoch 29/50, Loss: 0.05686309192171122\n",
            "Epoch 30/50, Loss: 0.05576980511083248\n",
            "Epoch 31/50, Loss: 0.05502572642995956\n",
            "Epoch 32/50, Loss: 0.05252141659247114\n",
            "Epoch 33/50, Loss: 0.051426603141775794\n",
            "Epoch 34/50, Loss: 0.052575820006747195\n",
            "Epoch 35/50, Loss: 0.05123426447364878\n",
            "Epoch 36/50, Loss: 0.04984635781258979\n",
            "Epoch 37/50, Loss: 0.04935960080870923\n",
            "Epoch 38/50, Loss: 0.04879905348841814\n",
            "Epoch 39/50, Loss: 0.04699886300541619\n",
            "Epoch 40/50, Loss: 0.047246283241250416\n",
            "Epoch 41/50, Loss: 0.04578722709235042\n",
            "Epoch 42/50, Loss: 0.04472317153072738\n",
            "Epoch 43/50, Loss: 0.04462970772242927\n",
            "Epoch 44/50, Loss: 0.04423435741361786\n",
            "Epoch 45/50, Loss: 0.04346843706443906\n",
            "Epoch 46/50, Loss: 0.043161289128375815\n",
            "Epoch 47/50, Loss: 0.04223403904507769\n",
            "Epoch 48/50, Loss: 0.042102372495734945\n",
            "Epoch 49/50, Loss: 0.04189899903028569\n",
            "Epoch 50/50, Loss: 0.040925678258088044\n",
            "\n",
            "Evaluation on test set:\n",
            "\n",
            "Mini-batch gradient descent (momentum 0.9):\n",
            "Accuracy on test set: 98.59%\n"
          ]
        }
      ],
      "source": [
        "print(\"\\nTraining with Mini-batch gradient descent (momentum 0.9):\")\n",
        "train_loss_sgd_momentum = train(cnn_sgd_momentum, criterion, optimizer_momentum, train_loaderN_large, epochs)\n",
        "\n",
        "print(\"\\nEvaluation on test set:\")\n",
        "print(\"\\nMini-batch gradient descent (momentum 0.9):\")\n",
        "evaluate(cnn_sgd_momentum, test_loaderN)\n"
      ]
    },
    {
      "cell_type": "markdown",
      "source": [
        "Training and evaluating Adam optimizer"
      ],
      "metadata": {
        "id": "vlp4L2EEJRYk"
      }
    },
    {
      "cell_type": "code",
      "execution_count": null,
      "metadata": {
        "id": "sph9HKHMTi7R",
        "outputId": "d91dd105-4109-4245-9091-0bec505ae94a"
      },
      "outputs": [
        {
          "name": "stdout",
          "output_type": "stream",
          "text": [
            "\n",
            "Evaluation on test set:\n",
            "\n",
            "Training with Adam optimizer:\n",
            "Epoch 1/50, Loss: 0.6073090026036222\n",
            "Epoch 2/50, Loss: 0.144256937361144\n",
            "Epoch 3/50, Loss: 0.10554063654643424\n",
            "Epoch 4/50, Loss: 0.08645783526466248\n",
            "Epoch 5/50, Loss: 0.07735604942637556\n",
            "Epoch 6/50, Loss: 0.07012732576658116\n",
            "Epoch 7/50, Loss: 0.06283265582107483\n",
            "Epoch 8/50, Loss: 0.05691362143038435\n",
            "Epoch 9/50, Loss: 0.05310243894445135\n",
            "Epoch 10/50, Loss: 0.04829589892575081\n",
            "Epoch 11/50, Loss: 0.04688991438201133\n",
            "Epoch 12/50, Loss: 0.042404023427119915\n",
            "Epoch 13/50, Loss: 0.03910866347636948\n",
            "Epoch 14/50, Loss: 0.03684321497269767\n",
            "Epoch 15/50, Loss: 0.03674800278163178\n",
            "Epoch 16/50, Loss: 0.034453679349749015\n",
            "Epoch 17/50, Loss: 0.03068767506331998\n",
            "Epoch 18/50, Loss: 0.030051653518123514\n",
            "Epoch 19/50, Loss: 0.029308441857946045\n",
            "Epoch 20/50, Loss: 0.02637273715610834\n",
            "Epoch 21/50, Loss: 0.028164375817125782\n",
            "Epoch 22/50, Loss: 0.02422021493276066\n",
            "Epoch 23/50, Loss: 0.02342410478344623\n",
            "Epoch 24/50, Loss: 0.022886223826517768\n",
            "Epoch 25/50, Loss: 0.02037169616966647\n",
            "Epoch 26/50, Loss: 0.021086434668247053\n",
            "Epoch 27/50, Loss: 0.018445922603751434\n",
            "Epoch 28/50, Loss: 0.018366575280719614\n",
            "Epoch 29/50, Loss: 0.017130665854610344\n",
            "Epoch 30/50, Loss: 0.015515418743536352\n",
            "Epoch 31/50, Loss: 0.016158311777411307\n",
            "Epoch 32/50, Loss: 0.017277628651007692\n",
            "Epoch 33/50, Loss: 0.014060793297261277\n",
            "Epoch 34/50, Loss: 0.013159806763832556\n",
            "Epoch 35/50, Loss: 0.013662382509519762\n",
            "Epoch 36/50, Loss: 0.012353644325853662\n",
            "Epoch 37/50, Loss: 0.010411273308861208\n",
            "Epoch 38/50, Loss: 0.012165724742721687\n",
            "Epoch 39/50, Loss: 0.012567574811846692\n",
            "Epoch 40/50, Loss: 0.010142548875808914\n",
            "Epoch 41/50, Loss: 0.010865845189162312\n",
            "Epoch 42/50, Loss: 0.008611009197255121\n",
            "Epoch 43/50, Loss: 0.009881512587456568\n",
            "Epoch 44/50, Loss: 0.009673889451709754\n",
            "Epoch 45/50, Loss: 0.009715690109086163\n",
            "Epoch 46/50, Loss: 0.009052235031985935\n",
            "Epoch 47/50, Loss: 0.00946286856203013\n",
            "Epoch 48/50, Loss: 0.007728556769236209\n",
            "Epoch 49/50, Loss: 0.006819160689477205\n",
            "Epoch 50/50, Loss: 0.009751776445463815\n",
            "\n",
            "Adam optimizer:\n",
            "Accuracy on test set: 98.97%\n"
          ]
        }
      ],
      "source": [
        "print(\"\\nEvaluation on test set:\")\n",
        "print(\"\\nTraining with Adam optimizer:\")\n",
        "train_loss_adam = train(cnn_adam, criterion, optimizer_adam, train_loaderN_large,epochs)\n",
        "\n",
        "print(\"\\nAdam optimizer:\")\n",
        "evaluate(cnn_adam, test_loaderN)"
      ]
    },
    {
      "cell_type": "markdown",
      "source": [
        "Plotting the losses corresponding to each optimiser"
      ],
      "metadata": {
        "id": "I8k2VCPVJYbS"
      }
    },
    {
      "cell_type": "code",
      "execution_count": null,
      "metadata": {
        "id": "LYYnojqV6rMp",
        "outputId": "926addc4-7e9b-4fff-926a-f640c1b1ff67"
      },
      "outputs": [
        {
          "data": {
            "image/png": "[encoded data removed]",
            "text/plain": [
              "<Figure size 1400x600 with 1 Axes>"
            ]
          },
          "metadata": {},
          "output_type": "display_data"
        }
      ],
      "source": [
        "# Plot the training loss for each optimizer\n",
        "plt.plot(range(1,epochs+1), train_loss_sgd, label=\"SGD\")\n",
        "plt.plot(range(1,epochs+1), train_loss_sgd_momentum, label=\"SGD with momentum 0.9\")\n",
        "plt.plot(range(1,epochs+1), train_loss_adam, label=\"Adam\")\n",
        "plt.xlabel(\"Number of epochs\")\n",
        "plt.ylabel(\"Training loss\")\n",
        "plt.legend()\n",
        "plt.show()"
      ]
    },
    {
      "cell_type": "markdown",
      "metadata": {
        "id": "ZsbrDf7rBcPC"
      },
      "source": [
        "EXPERIMENT 4"
      ]
    },
    {
      "cell_type": "markdown",
      "metadata": {
        "id": "Kp-JdYxgBhVK"
      },
      "source": [
        "a) Modifying the ResNet from two level Resnet blocks with two fully-connected layers to Three level Resnet block with two fully-connected layers"
      ]
    },
    {
      "cell_type": "code",
      "execution_count": null,
      "metadata": {
        "colab": {
          "base_uri": "https://localhost:8080/"
        },
        "id": "mHF6-wBG8T-8",
        "outputId": "da45cb3e-2604-40bf-c275-8b62665a31f1"
      },
      "outputs": [
        {
          "name": "stdout",
          "output_type": "stream",
          "text": [
            "torch.Size([1, 10])\n"
          ]
        }
      ],
      "source": [
        "class CNN_ResNeta(nn.Module):\n",
        "    def __init__(self, in_channels=1, num_classes=10, n_channels=8):\n",
        "        super(CNN_ResNeta, self).__init__()\n",
        "        self.n_channels = n_channels\n",
        "        self.conv1 = nn.Conv2d(in_channels,out_channels=n_channels, kernel_size=3, padding=1)\n",
        "        self.pool = nn.MaxPool2d(2, 2)\n",
        "        self.resnet1 = ResidualBlock(n_channels, n_channels)\n",
        "        self.resnet2 = ResidualBlock(n_channels, n_channels)\n",
        "        self.resnet3 = ResidualBlock(n_channels, n_channels)\n",
        "        self.fc_flat = nn.Flatten()     # ------> Flatten ----->\n",
        "        self.fc_lin1 = nn.Linear(n_channels * 1* 1, 128)   #  ---------> Linear(512) ------>\n",
        "        self.fc_relu = nn.ReLU()                #  ---------> ReLu ------->\n",
        "        self.fc_lin2 = nn.Linear(128, 10)\n",
        "        self.relu = nn.ReLU()\n",
        "\n",
        "    def forward(self, x):\n",
        "        x = self.relu(self.pool(self.conv1(x)))\n",
        "        x = self.pool(self.resnet1(x))\n",
        "        x = self.pool(self.resnet2(x))\n",
        "        x = self.pool(self.resnet3(x))\n",
        "        x = x.view(-1, self.n_channels * 1 * 1)   #flatten\n",
        "        x = self.fc_lin1(x)\n",
        "        x = self.fc_relu(x)\n",
        "        x = self.fc_lin2(x)\n",
        "        return x\n",
        "\n",
        "resneta = CNN_ResNeta()\n",
        "y_hat2 = resneta(images[0, :, :, :])\n",
        "print(y_hat2.shape)"
      ]
    },
    {
      "cell_type": "markdown",
      "metadata": {
        "id": "yYEb99LIB3Wi"
      },
      "source": [
        "b) Modifying the ResNet from two level Resnet blocks with two fully-connected layers to Two level Resnet blocks with four\n",
        "fully-connected layers"
      ]
    },
    {
      "cell_type": "code",
      "execution_count": null,
      "metadata": {
        "colab": {
          "base_uri": "https://localhost:8080/"
        },
        "id": "mNJszYk-8aB-",
        "outputId": "862df924-fb0e-4143-ac3c-f63d68d59833"
      },
      "outputs": [
        {
          "name": "stdout",
          "output_type": "stream",
          "text": [
            "torch.Size([1, 10])\n"
          ]
        }
      ],
      "source": [
        "class CNN_ResNetb(nn.Module):\n",
        "    def __init__(self, in_channels=1, num_classes=10, n_channels=8):\n",
        "        super(CNN_ResNetb, self).__init__()\n",
        "        self.n_channels = n_channels\n",
        "        self.conv1 = nn.Conv2d(in_channels,out_channels=n_channels, kernel_size=3, padding=1)\n",
        "        self.pool = nn.MaxPool2d(2, 2)\n",
        "        self.resnet1 = ResidualBlock(n_channels, n_channels)\n",
        "        self.resnet2 = ResidualBlock(n_channels, n_channels)\n",
        "        self.fc_flat = nn.Flatten()     # ------> Flatten ----->\n",
        "        self.fc_lin1 = nn.Linear(n_channels * 3* 3, 128)   #  ---------> Linear(512) ------>\n",
        "        self.fc_relu = nn.ReLU()\n",
        "        self.fc_lin2 = nn.Linear(128, 64)\n",
        "        self.fc_relu = nn.ReLU()\n",
        "        self.fc_lin3 = nn.Linear(64, 32)\n",
        "        self.fc_relu = nn.ReLU()\n",
        "        self.fc_lin4 = nn.Linear(32, 10)\n",
        "        self.relu = nn.ReLU()\n",
        "\n",
        "    def forward(self, x):\n",
        "        x = self.relu(self.pool(self.conv1(x)))\n",
        "        x = self.pool(self.resnet1(x))\n",
        "        x = self.pool(self.resnet2(x))\n",
        "        x = x.view(-1, self.n_channels * 3 * 3)   #flatten\n",
        "        x = self.fc_lin1(x)\n",
        "        x = self.fc_relu(x)\n",
        "        x = self.fc_lin2(x)\n",
        "        x = self.fc_relu(x)\n",
        "        x = self.fc_lin3(x)\n",
        "        x = self.fc_relu(x)\n",
        "        x = self.fc_lin4(x)\n",
        "        return x\n",
        "\n",
        "resnetb = CNN_ResNetb()\n",
        "y_hat2 = resnetb(images[0, :, :, :])\n",
        "print(y_hat2.shape)"
      ]
    },
    {
      "cell_type": "code",
      "execution_count": null,
      "metadata": {
        "id": "Z5FtZniEAqwJ"
      },
      "outputs": [],
      "source": [
        "# Instantiate models\n",
        "cnn_resneta = CNN_ResNeta()\n",
        "cnn_resnetb = CNN_ResNetb()\n",
        "\n",
        "cnn_resneta = cnn_resneta.to('cuda')\n",
        "cnn_resnetb = cnn_resnetb.to('cuda')\n",
        "\n",
        "# Define loss function and optimizer\n",
        "epochs=50\n",
        "criterion = nn.CrossEntropyLoss()\n",
        "optimizer_resneta = optim.Adam(cnn_resneta.parameters(), lr=0.001)\n",
        "optimizer_resnetb = optim.Adam(cnn_resnetb.parameters(), lr=0.001)"
      ]
    },
    {
      "cell_type": "markdown",
      "metadata": {
        "id": "4AnoUzQ3DudJ"
      },
      "source": [
        "No of parameter in the model and model summary"
      ]
    },
    {
      "cell_type": "code",
      "execution_count": null,
      "metadata": {
        "colab": {
          "base_uri": "https://localhost:8080/"
        },
        "id": "CR-3BCUjCGXf",
        "outputId": "b52c8b1b-a763-4d60-850a-81facabd1bde"
      },
      "outputs": [
        {
          "name": "stdout",
          "output_type": "stream",
          "text": [
            "Total number of parameters for CNN-Resnet Part a : 6026\n",
            "----------------------------------------------------------------\n",
            "        Layer (type)               Output Shape         Param #\n",
            "================================================================\n",
            "            Conv2d-1            [-1, 8, 28, 28]              80\n",
            "         MaxPool2d-2            [-1, 8, 14, 14]               0\n",
            "              ReLU-3            [-1, 8, 14, 14]               0\n",
            "            Conv2d-4            [-1, 8, 14, 14]             584\n",
            "              ReLU-5            [-1, 8, 14, 14]               0\n",
            "            Conv2d-6            [-1, 8, 14, 14]             584\n",
            "              ReLU-7            [-1, 8, 14, 14]               0\n",
            "     ResidualBlock-8            [-1, 8, 14, 14]               0\n",
            "         MaxPool2d-9              [-1, 8, 7, 7]               0\n",
            "           Conv2d-10              [-1, 8, 7, 7]             584\n",
            "             ReLU-11              [-1, 8, 7, 7]               0\n",
            "           Conv2d-12              [-1, 8, 7, 7]             584\n",
            "             ReLU-13              [-1, 8, 7, 7]               0\n",
            "    ResidualBlock-14              [-1, 8, 7, 7]               0\n",
            "        MaxPool2d-15              [-1, 8, 3, 3]               0\n",
            "           Conv2d-16              [-1, 8, 3, 3]             584\n",
            "             ReLU-17              [-1, 8, 3, 3]               0\n",
            "           Conv2d-18              [-1, 8, 3, 3]             584\n",
            "             ReLU-19              [-1, 8, 3, 3]               0\n",
            "    ResidualBlock-20              [-1, 8, 3, 3]               0\n",
            "        MaxPool2d-21              [-1, 8, 1, 1]               0\n",
            "           Linear-22                  [-1, 128]           1,152\n",
            "             ReLU-23                  [-1, 128]               0\n",
            "           Linear-24                   [-1, 10]           1,290\n",
            "================================================================\n",
            "Total params: 6,026\n",
            "Trainable params: 6,026\n",
            "Non-trainable params: 0\n",
            "----------------------------------------------------------------\n",
            "Input size (MB): 0.00\n",
            "Forward/backward pass size (MB): 0.15\n",
            "Params size (MB): 0.02\n",
            "Estimated Total Size (MB): 0.18\n",
            "----------------------------------------------------------------\n",
            "Total number of parameters for CNN-Resnet Part b: 22426\n",
            "----------------------------------------------------------------\n",
            "        Layer (type)               Output Shape         Param #\n",
            "================================================================\n",
            "            Conv2d-1            [-1, 8, 28, 28]              80\n",
            "         MaxPool2d-2            [-1, 8, 14, 14]               0\n",
            "              ReLU-3            [-1, 8, 14, 14]               0\n",
            "            Conv2d-4            [-1, 8, 14, 14]             584\n",
            "              ReLU-5            [-1, 8, 14, 14]               0\n",
            "            Conv2d-6            [-1, 8, 14, 14]             584\n",
            "              ReLU-7            [-1, 8, 14, 14]               0\n",
            "     ResidualBlock-8            [-1, 8, 14, 14]               0\n",
            "         MaxPool2d-9              [-1, 8, 7, 7]               0\n",
            "           Conv2d-10              [-1, 8, 7, 7]             584\n",
            "             ReLU-11              [-1, 8, 7, 7]               0\n",
            "           Conv2d-12              [-1, 8, 7, 7]             584\n",
            "             ReLU-13              [-1, 8, 7, 7]               0\n",
            "    ResidualBlock-14              [-1, 8, 7, 7]               0\n",
            "        MaxPool2d-15              [-1, 8, 3, 3]               0\n",
            "           Linear-16                  [-1, 128]           9,344\n",
            "             ReLU-17                  [-1, 128]               0\n",
            "           Linear-18                   [-1, 64]           8,256\n",
            "             ReLU-19                   [-1, 64]               0\n",
            "           Linear-20                   [-1, 32]           2,080\n",
            "             ReLU-21                   [-1, 32]               0\n",
            "           Linear-22                   [-1, 10]             330\n",
            "================================================================\n",
            "Total params: 22,426\n",
            "Trainable params: 22,426\n",
            "Non-trainable params: 0\n",
            "----------------------------------------------------------------\n",
            "Input size (MB): 0.00\n",
            "Forward/backward pass size (MB): 0.15\n",
            "Params size (MB): 0.09\n",
            "Estimated Total Size (MB): 0.24\n",
            "----------------------------------------------------------------\n"
          ]
        }
      ],
      "source": [
        "from torchsummary import summary\n",
        "\n",
        "total_params = sum(p.numel() for p in cnn_resneta.parameters())\n",
        "print(f\"Total number of parameters for CNN-Resnet Part a : {total_params}\")\n",
        "summary(cnn_resneta, (1, 28, 28))\n",
        "\n",
        "total_params = sum(p.numel() for p in cnn_resnetb.parameters())\n",
        "print(f\"Total number of parameters for CNN-Resnet Part b: {total_params}\")\n",
        "summary(cnn_resnetb, (1, 28, 28))"
      ]
    },
    {
      "cell_type": "code",
      "execution_count": null,
      "metadata": {
        "colab": {
          "base_uri": "https://localhost:8080/",
          "height": 1000
        },
        "id": "XrqHNux8Aads",
        "outputId": "6418737c-3528-41ff-8ff0-b526d273c436"
      },
      "outputs": [
        {
          "name": "stdout",
          "output_type": "stream",
          "text": [
            "Training CNN-ResNet PART A:\n",
            "Epoch 1/50, Loss: 1.0014464392306957\n",
            "Epoch 2/50, Loss: 0.2912398382704309\n",
            "Epoch 3/50, Loss: 0.194161604408254\n",
            "Epoch 4/50, Loss: 0.15233091127048148\n",
            "Epoch 5/50, Loss: 0.1265899694029321\n",
            "Epoch 6/50, Loss: 0.10749039187076244\n",
            "Epoch 7/50, Loss: 0.09731506359703998\n",
            "Epoch 8/50, Loss: 0.09297700491832926\n",
            "Epoch 9/50, Loss: 0.08406925103924376\n",
            "Epoch 10/50, Loss: 0.0777910570039394\n",
            "Epoch 11/50, Loss: 0.07159972660084989\n",
            "Epoch 12/50, Loss: 0.06824770229769514\n",
            "Epoch 13/50, Loss: 0.06523650754639443\n",
            "Epoch 14/50, Loss: 0.0633605286360104\n",
            "Epoch 15/50, Loss: 0.059003287181258204\n",
            "Epoch 16/50, Loss: 0.0552085664083666\n",
            "Epoch 17/50, Loss: 0.05252900993491107\n",
            "Epoch 18/50, Loss: 0.05189536445714692\n",
            "Epoch 19/50, Loss: 0.05015117236353615\n",
            "Epoch 20/50, Loss: 0.04815537022387094\n",
            "Epoch 21/50, Loss: 0.04970740781343998\n",
            "Epoch 22/50, Loss: 0.04389332658710315\n",
            "Epoch 23/50, Loss: 0.044046681952920365\n",
            "Epoch 24/50, Loss: 0.04278556890785694\n",
            "Epoch 25/50, Loss: 0.041600161874072346\n",
            "Epoch 26/50, Loss: 0.03965748340644418\n",
            "Epoch 27/50, Loss: 0.03760983678016891\n",
            "Epoch 28/50, Loss: 0.03653716751513012\n",
            "Epoch 29/50, Loss: 0.03652938913474692\n",
            "Epoch 30/50, Loss: 0.03594079629141599\n",
            "Epoch 31/50, Loss: 0.03413633931220133\n",
            "Epoch 32/50, Loss: 0.03392831566644476\n",
            "Epoch 33/50, Loss: 0.0344687308898156\n",
            "Epoch 34/50, Loss: 0.03259971872606176\n",
            "Epoch 35/50, Loss: 0.030880318961522362\n",
            "Epoch 36/50, Loss: 0.03231383206996512\n",
            "Epoch 37/50, Loss: 0.0291806131621149\n",
            "Epoch 38/50, Loss: 0.02885992286449417\n",
            "Epoch 39/50, Loss: 0.02798536578787768\n",
            "Epoch 40/50, Loss: 0.026598646728559695\n",
            "Epoch 41/50, Loss: 0.029828345177179954\n",
            "Epoch 42/50, Loss: 0.025285691358743513\n",
            "Epoch 43/50, Loss: 0.023948007943901294\n",
            "Epoch 44/50, Loss: 0.025042507955011853\n",
            "Epoch 45/50, Loss: 0.024283145989311184\n",
            "Epoch 46/50, Loss: 0.022775425144689197\n",
            "Epoch 47/50, Loss: 0.02462695594579774\n",
            "Epoch 48/50, Loss: 0.02443523506009753\n",
            "Epoch 49/50, Loss: 0.022386134815144728\n",
            "Epoch 50/50, Loss: 0.022006057386108217\n",
            "Evaluation CNN-ResNet PART A:\n",
            "Accuracy on test set: 98.66%\n"
          ]
        },
        {
          "data": {
            "text/plain": [
              "Text(0, 0.5, 'Training loss')"
            ]
          },
          "execution_count": 55,
          "metadata": {},
          "output_type": "execute_result"
        },
        {
          "data": {
            "image/png": "[encoded data removed]",
            "text/plain": [
              "<Figure size 1400x600 with 1 Axes>"
            ]
          },
          "metadata": {},
          "output_type": "display_data"
        }
      ],
      "source": [
        "# Train and evaluate CNN-ResNet\n",
        "print(\"Training CNN-ResNet PART A:\")\n",
        "train_losses_resneta=train(cnn_resneta, criterion, optimizer_resneta, train_loader,epochs)\n",
        "print(\"Evaluation CNN-ResNet PART A:\")\n",
        "evaluate(cnn_resnet, test_loader)\n",
        "\n",
        "plt.plot(range(1,epochs+1), train_losses_resneta)\n",
        "plt.xlabel(\"Number of epochs\")\n",
        "plt.ylabel(\"Training loss\")"
      ]
    },
    {
      "cell_type": "code",
      "execution_count": null,
      "metadata": {
        "colab": {
          "base_uri": "https://localhost:8080/",
          "height": 1000
        },
        "id": "5BS0s9VrBPXl",
        "outputId": "46a8c851-044f-4995-b621-f1739281bc01"
      },
      "outputs": [
        {
          "name": "stdout",
          "output_type": "stream",
          "text": [
            "Training CNN-ResNet PART B:\n"
          ]
        },
        {
          "name": "stdout",
          "output_type": "stream",
          "text": [
            "Epoch 1/50, Loss: 1.0827998600107558\n",
            "Epoch 2/50, Loss: 0.2856598934594621\n",
            "Epoch 3/50, Loss: 0.16145529842123071\n",
            "Epoch 4/50, Loss: 0.12255700937610992\n",
            "Epoch 5/50, Loss: 0.10404094104120072\n",
            "Epoch 6/50, Loss: 0.08982029188662133\n",
            "Epoch 7/50, Loss: 0.08216793337400924\n",
            "Epoch 8/50, Loss: 0.0730063407979113\n",
            "Epoch 9/50, Loss: 0.06772615613931036\n",
            "Epoch 10/50, Loss: 0.06220176783885727\n",
            "Epoch 11/50, Loss: 0.06003883671253286\n",
            "Epoch 12/50, Loss: 0.057260573108462574\n",
            "Epoch 13/50, Loss: 0.0513886413279366\n",
            "Epoch 14/50, Loss: 0.05005850527197757\n",
            "Epoch 15/50, Loss: 0.048080745291836716\n",
            "Epoch 16/50, Loss: 0.045709623681738025\n",
            "Epoch 17/50, Loss: 0.04058915986580418\n",
            "Epoch 18/50, Loss: 0.03950802287324629\n",
            "Epoch 19/50, Loss: 0.03932156174225693\n",
            "Epoch 20/50, Loss: 0.03718476708027277\n",
            "Epoch 21/50, Loss: 0.0370143132304099\n",
            "Epoch 22/50, Loss: 0.03262847155887396\n",
            "Epoch 23/50, Loss: 0.03156686909100477\n",
            "Epoch 24/50, Loss: 0.032158281544144164\n",
            "Epoch 25/50, Loss: 0.0296040799775894\n",
            "Epoch 26/50, Loss: 0.02805362167431319\n",
            "Epoch 27/50, Loss: 0.027930817059538465\n",
            "Epoch 28/50, Loss: 0.024831074119565335\n",
            "Epoch 29/50, Loss: 0.026488949949456816\n",
            "Epoch 30/50, Loss: 0.02160987642970174\n",
            "Epoch 31/50, Loss: 0.022538331211445495\n",
            "Epoch 32/50, Loss: 0.02202694927976328\n",
            "Epoch 33/50, Loss: 0.021998849872281734\n",
            "Epoch 34/50, Loss: 0.020426115476367798\n",
            "Epoch 35/50, Loss: 0.019468072078319545\n",
            "Epoch 36/50, Loss: 0.019405853226681813\n",
            "Epoch 37/50, Loss: 0.016862549520087766\n",
            "Epoch 38/50, Loss: 0.018768443498621754\n",
            "Epoch 39/50, Loss: 0.01598385597970535\n",
            "Epoch 40/50, Loss: 0.01529988857466688\n",
            "Epoch 41/50, Loss: 0.01736201328507803\n",
            "Epoch 42/50, Loss: 0.015415851422585548\n",
            "Epoch 43/50, Loss: 0.016807980256333472\n",
            "Epoch 44/50, Loss: 0.014324657691944827\n",
            "Epoch 45/50, Loss: 0.012066310278060747\n",
            "Epoch 46/50, Loss: 0.013572310858054404\n",
            "Epoch 47/50, Loss: 0.016923602164643718\n",
            "Epoch 48/50, Loss: 0.012620393700025817\n",
            "Epoch 49/50, Loss: 0.011988618237243846\n",
            "Epoch 50/50, Loss: 0.010956342777415634\n",
            "Evaluation CNN-ResNet PART B:\n",
            "Accuracy on test set: 98.66%\n"
          ]
        },
        {
          "data": {
            "text/plain": [
              "Text(0, 0.5, 'Training loss')"
            ]
          },
          "execution_count": 56,
          "metadata": {},
          "output_type": "execute_result"
        },
        {
          "data": {
            "image/png": "[encoded data removed]",
            "text/plain": [
              "<Figure size 1400x600 with 1 Axes>"
            ]
          },
          "metadata": {},
          "output_type": "display_data"
        }
      ],
      "source": [
        "# Train and evaluate CNN-ResNet\n",
        "print(\"Training CNN-ResNet PART B:\")\n",
        "train_losses_resnetb=train(cnn_resnetb, criterion, optimizer_resnetb, train_loader,epochs)\n",
        "print(\"Evaluation CNN-ResNet PART B:\")\n",
        "evaluate(cnn_resnet, test_loader)\n",
        "\n",
        "plt.plot(range(1,epochs+1), train_losses_resnetb)\n",
        "plt.xlabel(\"Number of epochs\")\n",
        "plt.ylabel(\"Training loss\")"
      ]
    },
    {
      "cell_type": "markdown",
      "metadata": {
        "id": "IHV-m-k8KHHy"
      },
      "source": [
        "Experiment 5: Study the Effect of Different Regularizers.Consider the following regularizers: (a) Batch Normalization, (b) Dropout, (c)\n",
        "Both Batch Normalization and Dropout."
      ]
    },
    {
      "cell_type": "markdown",
      "metadata": {
        "id": "HolLdYkiTcU_"
      },
      "source": [
        "Modified CNN_Resnet"
      ]
    },
    {
      "cell_type": "code",
      "execution_count": null,
      "metadata": {
        "id": "lo3fY4DPD2F7"
      },
      "outputs": [],
      "source": [
        "import torch.nn.functional as F\n",
        "\n",
        "class ResidualBlockNew(nn.Module):\n",
        "    def __init__(self, in_channels, out_channels, use_batch_norm=False, use_dropout=False):\n",
        "        super(ResidualBlockNew, self).__init__()\n",
        "\n",
        "        self.conv1 = nn.Conv2d(in_channels, out_channels, kernel_size=3, padding=1)\n",
        "        self.conv2 = nn.Conv2d(out_channels, out_channels, kernel_size=3, padding=1)\n",
        "        self.use_batch_norm = use_batch_norm\n",
        "        self.use_dropout = use_dropout\n",
        "        if self.use_batch_norm:\n",
        "            self.bn1 = nn.BatchNorm2d(out_channels)\n",
        "            self.bn2 = nn.BatchNorm2d(out_channels)\n",
        "        if self.use_dropout:\n",
        "            self.dropout = nn.Dropout(0.5)\n",
        "        self.relu = nn.ReLU()\n",
        "\n",
        "    def forward(self, x):\n",
        "        residual = x\n",
        "        x = self.relu(self.conv1(x))\n",
        "        if self.use_batch_norm:\n",
        "            x = self.bn1(x)\n",
        "        x = self.relu(self.conv2(x))\n",
        "        if self.use_batch_norm:\n",
        "            x = self.bn2(x)\n",
        "        if self.use_dropout:\n",
        "            x = self.dropout(x)\n",
        "        x = x + residual  # Shortcut connection\n",
        "        x = self.relu(x)\n",
        "        return x\n",
        "\n",
        "class CNN_ResNetNew(nn.Module):\n",
        "    def __init__(self, in_channels=1, num_classes=10, use_batch_norm=False, use_dropout=False, n_channels=8):\n",
        "        super(CNN_ResNetNew, self).__init__()\n",
        "        self.n_channels = n_channels\n",
        "        self.conv1 = nn.Conv2d(in_channels,out_channels=n_channels, kernel_size=3, padding=1)\n",
        "        self.pool = nn.MaxPool2d(2, 2)\n",
        "        self.resnet1 = ResidualBlockNew(n_channels, n_channels, use_batch_norm=use_batch_norm, use_dropout=use_dropout)\n",
        "        self.resnet2 = ResidualBlockNew(n_channels, n_channels, use_batch_norm=use_batch_norm, use_dropout=use_dropout)\n",
        "        self.fc_flat = nn.Flatten()\n",
        "        self.fc_lin1 = nn.Linear(n_channels * 3* 3, 128)\n",
        "        self.fc_relu = nn.ReLU()\n",
        "        self.fc_lin2 = nn.Linear(128, num_classes)\n",
        "        self.relu = nn.ReLU()\n",
        "\n",
        "    def forward(self, x):\n",
        "        x = self.relu(self.pool(self.conv1(x)))\n",
        "        x = self.pool(self.resnet1(x))\n",
        "        x = self.pool(self.resnet2(x))\n",
        "        x = x.view(-1, self.n_channels * 3 * 3)\n",
        "        x = self.fc_lin1(x)\n",
        "        x = self.fc_relu(x)\n",
        "        x = self.fc_lin2(x)\n",
        "        return x\n"
      ]
    },
    {
      "cell_type": "markdown",
      "metadata": {
        "id": "yl3f4HnXTYoR"
      },
      "source": [
        "Models and optimizers"
      ]
    },
    {
      "cell_type": "code",
      "execution_count": null,
      "metadata": {
        "id": "HI-Y1RrnOzwF"
      },
      "outputs": [],
      "source": [
        "# with Batch Normalization\n",
        "resnet_with_batch_norm = CNN_ResNetNew(use_batch_norm=True)\n",
        "resnet_with_batch_norm = resnet_with_batch_norm.to('cuda')\n",
        "\n",
        "# with Dropout\n",
        "resnet_with_dropout = CNN_ResNetNew(use_dropout=True)\n",
        "resnet_with_dropout = resnet_with_dropout.to('cuda')\n",
        "\n",
        "# with both Batch Normalization and Dropout\n",
        "resnet_with_batch_norm_dropout = CNN_ResNetNew(use_batch_norm=True, use_dropout=True)\n",
        "resnet_with_batch_norm_dropout = resnet_with_batch_norm_dropout.to('cuda')\n",
        "\n",
        "optimizer_adam_bn= optim.Adam(resnet_with_batch_norm.parameters(), lr=0.001)\n",
        "optimizer_adam_d= optim.Adam(resnet_with_dropout.parameters(), lr=0.001)\n",
        "optimizer_adam_bnd= optim.Adam(resnet_with_batch_norm_dropout.parameters(), lr=0.001)\n"
      ]
    },
    {
      "cell_type": "markdown",
      "metadata": {
        "id": "VyBgA_aWS8v7"
      },
      "source": [
        "Training CNN_ResNet with Batch Normalisation"
      ]
    },
    {
      "cell_type": "code",
      "execution_count": null,
      "metadata": {
        "id": "ygFUB5y7RUrO",
        "outputId": "7eac9d6c-cae8-41e8-dcee-1a4046a2ff2a"
      },
      "outputs": [
        {
          "name": "stdout",
          "output_type": "stream",
          "text": [
            "Training CNN-ResNet with batch normalisation:\n",
            "Epoch 1/50, Loss: 0.3790447359706493\n",
            "Epoch 2/50, Loss: 0.0801699254899583\n",
            "Epoch 3/50, Loss: 0.06165989764985886\n",
            "Epoch 4/50, Loss: 0.05000122404122289\n",
            "Epoch 5/50, Loss: 0.04366818060900303\n",
            "Epoch 6/50, Loss: 0.0393985482289436\n",
            "Epoch 7/50, Loss: 0.034625770547922624\n",
            "Epoch 8/50, Loss: 0.03169367125733419\n",
            "Epoch 9/50, Loss: 0.0303114901752548\n",
            "Epoch 10/50, Loss: 0.02739085231293389\n",
            "Epoch 11/50, Loss: 0.024937564611157523\n",
            "Epoch 12/50, Loss: 0.02258580492046523\n",
            "Epoch 13/50, Loss: 0.021375893422977087\n",
            "Epoch 14/50, Loss: 0.019733421064596225\n",
            "Epoch 15/50, Loss: 0.018348625581216145\n",
            "Epoch 16/50, Loss: 0.017115485034585792\n",
            "Epoch 17/50, Loss: 0.016020117607463073\n",
            "Epoch 18/50, Loss: 0.015232437736097169\n",
            "Epoch 19/50, Loss: 0.01403815910923592\n",
            "Epoch 20/50, Loss: 0.013373457318905027\n",
            "Epoch 21/50, Loss: 0.012424735801462876\n",
            "Epoch 22/50, Loss: 0.012081899362160487\n",
            "Epoch 23/50, Loss: 0.011435333285678891\n",
            "Epoch 24/50, Loss: 0.01031886404355433\n",
            "Epoch 25/50, Loss: 0.01060208028796664\n",
            "Epoch 26/50, Loss: 0.010213280591291396\n",
            "Epoch 27/50, Loss: 0.011483071613412827\n",
            "Epoch 28/50, Loss: 0.0073120091440517735\n",
            "Epoch 29/50, Loss: 0.009809721435762031\n",
            "Epoch 30/50, Loss: 0.007946461723792922\n",
            "Epoch 31/50, Loss: 0.006798638230774235\n",
            "Epoch 32/50, Loss: 0.005473207853154894\n",
            "Epoch 33/50, Loss: 0.007673872009036131\n",
            "Epoch 34/50, Loss: 0.007585199975205506\n",
            "Epoch 35/50, Loss: 0.006794606884687574\n",
            "Epoch 36/50, Loss: 0.006453535089113234\n",
            "Epoch 37/50, Loss: 0.006261281170473592\n",
            "Epoch 38/50, Loss: 0.005721465532452443\n",
            "Epoch 39/50, Loss: 0.006835106357794622\n",
            "Epoch 40/50, Loss: 0.00551118205586\n",
            "Epoch 41/50, Loss: 0.004120670009201313\n",
            "Epoch 42/50, Loss: 0.005182541535171541\n",
            "Epoch 43/50, Loss: 0.004806286540839751\n",
            "Epoch 44/50, Loss: 0.007494402285312313\n",
            "Epoch 45/50, Loss: 0.007506210905960464\n",
            "Epoch 46/50, Loss: 0.003833154436684476\n",
            "Epoch 47/50, Loss: 0.002694297703667271\n",
            "Epoch 48/50, Loss: 0.0030738522818400597\n",
            "Epoch 49/50, Loss: 0.007043031587183693\n",
            "Epoch 50/50, Loss: 0.007128943502314715\n",
            "Evaluation CNN-ResNet PART A:\n",
            "Accuracy on test set: 98.89%\n"
          ]
        },
        {
          "data": {
            "text/plain": [
              "Text(0, 0.5, 'Training loss')"
            ]
          },
          "execution_count": 46,
          "metadata": {},
          "output_type": "execute_result"
        },
        {
          "data": {
            "image/png": "[encoded data removed]",
            "text/plain": [
              "<Figure size 1400x600 with 1 Axes>"
            ]
          },
          "metadata": {},
          "output_type": "display_data"
        }
      ],
      "source": [
        "print(\"Training CNN-ResNet with batch normalisation:\")\n",
        "train_lossesa=train(resnet_with_batch_norm, criterion, optimizer_adam_bn, train_loaderN,epochs)\n",
        "print(\"Evaluation CNN-ResNet PART A:\")\n",
        "evaluate(resnet_with_batch_norm, test_loaderN)\n",
        "\n",
        "plt.plot(range(1,epochs+1), train_lossesa)\n",
        "plt.xlabel(\"Number of epochs\")\n",
        "plt.ylabel(\"Training loss\")"
      ]
    },
    {
      "cell_type": "markdown",
      "metadata": {
        "id": "z6RMxznMTGcA"
      },
      "source": [
        "Training CNN-ResNet with dropout\n",
        "\n",
        "\n"
      ]
    },
    {
      "cell_type": "code",
      "execution_count": null,
      "metadata": {
        "id": "VhozoqJ6R_rg",
        "outputId": "9282e570-a3f8-447a-877c-755cdcb1ec2b"
      },
      "outputs": [
        {
          "name": "stdout",
          "output_type": "stream",
          "text": [
            "Training CNN-ResNet with dropout:\n",
            "Epoch 1/50, Loss: 0.6571810764835236\n",
            "Epoch 2/50, Loss: 0.1986889033558521\n",
            "Epoch 3/50, Loss: 0.15108177918702997\n",
            "Epoch 4/50, Loss: 0.12917554470452858\n",
            "Epoch 5/50, Loss: 0.11670822929194632\n",
            "Epoch 6/50, Loss: 0.1085387073615764\n",
            "Epoch 7/50, Loss: 0.10305495303361974\n",
            "Epoch 8/50, Loss: 0.09461521049763294\n",
            "Epoch 9/50, Loss: 0.08734844685234922\n",
            "Epoch 10/50, Loss: 0.08548441245517832\n",
            "Epoch 11/50, Loss: 0.07934926099124107\n",
            "Epoch 12/50, Loss: 0.07749325940583615\n",
            "Epoch 13/50, Loss: 0.07313774403263913\n",
            "Epoch 14/50, Loss: 0.07096484458826958\n",
            "Epoch 15/50, Loss: 0.06947712611724087\n",
            "Epoch 16/50, Loss: 0.0683098186203774\n",
            "Epoch 17/50, Loss: 0.06618495254599034\n",
            "Epoch 18/50, Loss: 0.06300129495719646\n",
            "Epoch 19/50, Loss: 0.05727721250992506\n",
            "Epoch 20/50, Loss: 0.05710693451952427\n",
            "Epoch 21/50, Loss: 0.05609601483224554\n",
            "Epoch 22/50, Loss: 0.05703967824340501\n",
            "Epoch 23/50, Loss: 0.05268480611687645\n",
            "Epoch 24/50, Loss: 0.05215653414897462\n",
            "Epoch 25/50, Loss: 0.05099965068016281\n",
            "Epoch 26/50, Loss: 0.04871924656661267\n",
            "Epoch 27/50, Loss: 0.04848115696631213\n",
            "Epoch 28/50, Loss: 0.04639456943073805\n",
            "Epoch 29/50, Loss: 0.043798005121185424\n",
            "Epoch 30/50, Loss: 0.04452785054974733\n",
            "Epoch 31/50, Loss: 0.043378385691408144\n",
            "Epoch 32/50, Loss: 0.04348265818974122\n",
            "Epoch 33/50, Loss: 0.04433513787040051\n",
            "Epoch 34/50, Loss: 0.04264955583642772\n",
            "Epoch 35/50, Loss: 0.041547670706789545\n",
            "Epoch 36/50, Loss: 0.03989603674792229\n",
            "Epoch 37/50, Loss: 0.03968271494426943\n",
            "Epoch 38/50, Loss: 0.04046291494742036\n",
            "Epoch 39/50, Loss: 0.03884489775853271\n",
            "Epoch 40/50, Loss: 0.036935967179213436\n",
            "Epoch 41/50, Loss: 0.03715171945935234\n",
            "Epoch 42/50, Loss: 0.035383388017641106\n",
            "Epoch 43/50, Loss: 0.034076352334244456\n",
            "Epoch 44/50, Loss: 0.036129971292424706\n",
            "Epoch 45/50, Loss: 0.035843256940232944\n",
            "Epoch 46/50, Loss: 0.031934212594035456\n",
            "Epoch 47/50, Loss: 0.03428865784303622\n",
            "Epoch 48/50, Loss: 0.031772714336105484\n",
            "Epoch 49/50, Loss: 0.03200833206064999\n",
            "Epoch 50/50, Loss: 0.03300814757401005\n",
            "Evaluation CNN-ResNet PART A:\n",
            "Accuracy on test set: 98.00%\n"
          ]
        },
        {
          "data": {
            "text/plain": [
              "Text(0, 0.5, 'Training loss')"
            ]
          },
          "execution_count": 47,
          "metadata": {},
          "output_type": "execute_result"
        },
        {
          "data": {
            "image/png": "[encoded data removed]",
            "text/plain": [
              "<Figure size 1400x600 with 1 Axes>"
            ]
          },
          "metadata": {},
          "output_type": "display_data"
        }
      ],
      "source": [
        "print(\"Training CNN-ResNet with dropout:\")\n",
        "train_lossesb=train(resnet_with_dropout, criterion, optimizer_adam_d, train_loaderN,epochs)\n",
        "print(\"Evaluation CNN-ResNet PART A:\")\n",
        "evaluate(resnet_with_dropout, test_loaderN)\n",
        "\n",
        "plt.plot(range(1,epochs+1), train_lossesb)\n",
        "plt.xlabel(\"Number of epochs\")\n",
        "plt.ylabel(\"Training loss\")"
      ]
    },
    {
      "cell_type": "markdown",
      "metadata": {
        "id": "IveE1EAETLxF"
      },
      "source": [
        "Training CNN-ResNet with dropout and batch norm\n",
        "\n"
      ]
    },
    {
      "cell_type": "code",
      "execution_count": null,
      "metadata": {
        "id": "aeVkYBSBSjOs",
        "outputId": "7dd2b41a-eb51-4bf2-c880-edb6d92b8a63"
      },
      "outputs": [
        {
          "name": "stdout",
          "output_type": "stream",
          "text": [
            "Training CNN-ResNet with dropout and batch norm:\n",
            "Epoch 1/50, Loss: 0.5789327381456152\n",
            "Epoch 2/50, Loss: 0.1540459338971909\n",
            "Epoch 3/50, Loss: 0.11647601986819126\n",
            "Epoch 4/50, Loss: 0.09639386600477898\n",
            "Epoch 5/50, Loss: 0.08602759355401739\n",
            "Epoch 6/50, Loss: 0.07294359640713702\n",
            "Epoch 7/50, Loss: 0.0675905145110285\n",
            "Epoch 8/50, Loss: 0.06277678172956122\n",
            "Epoch 9/50, Loss: 0.05782856972135128\n",
            "Epoch 10/50, Loss: 0.05519077599524184\n",
            "Epoch 11/50, Loss: 0.05244276235474551\n",
            "Epoch 12/50, Loss: 0.05148923553209356\n",
            "Epoch 13/50, Loss: 0.04896592815267913\n",
            "Epoch 14/50, Loss: 0.04695157576352358\n",
            "Epoch 15/50, Loss: 0.04457515769816459\n",
            "Epoch 16/50, Loss: 0.04300814203600934\n",
            "Epoch 17/50, Loss: 0.040151738302108456\n",
            "Epoch 18/50, Loss: 0.041285887283292855\n",
            "Epoch 19/50, Loss: 0.04125227261176135\n",
            "Epoch 20/50, Loss: 0.039225761998603316\n",
            "Epoch 21/50, Loss: 0.036762547342384114\n",
            "Epoch 22/50, Loss: 0.03640552310649543\n",
            "Epoch 23/50, Loss: 0.03631485831190614\n",
            "Epoch 24/50, Loss: 0.034497185603299355\n",
            "Epoch 25/50, Loss: 0.032868215041433245\n",
            "Epoch 26/50, Loss: 0.03527219260428497\n",
            "Epoch 27/50, Loss: 0.033218971574480866\n",
            "Epoch 28/50, Loss: 0.031733723886390314\n",
            "Epoch 29/50, Loss: 0.030238033841027225\n",
            "Epoch 30/50, Loss: 0.030516310673246675\n",
            "Epoch 31/50, Loss: 0.03012844078995763\n",
            "Epoch 32/50, Loss: 0.02981952812146158\n",
            "Epoch 33/50, Loss: 0.028553571197343\n",
            "Epoch 34/50, Loss: 0.028173160120012596\n",
            "Epoch 35/50, Loss: 0.028569667072015557\n",
            "Epoch 36/50, Loss: 0.027112166378448935\n",
            "Epoch 37/50, Loss: 0.02698830751147359\n",
            "Epoch 38/50, Loss: 0.02668825531418019\n",
            "Epoch 39/50, Loss: 0.026028482954790617\n",
            "Epoch 40/50, Loss: 0.026841685281907942\n",
            "Epoch 41/50, Loss: 0.023254996979054303\n",
            "Epoch 42/50, Loss: 0.025006243599420216\n",
            "Epoch 43/50, Loss: 0.024620083554528972\n",
            "Epoch 44/50, Loss: 0.022385686077177523\n",
            "Epoch 45/50, Loss: 0.02413795780132901\n",
            "Epoch 46/50, Loss: 0.02477022296293302\n",
            "Epoch 47/50, Loss: 0.02239133589306569\n",
            "Epoch 48/50, Loss: 0.021815316582177866\n",
            "Epoch 49/50, Loss: 0.022794892105888177\n",
            "Epoch 50/50, Loss: 0.02206510845076372\n",
            "Evaluation CNN-ResNet PART A:\n",
            "Accuracy on test set: 99.06%\n"
          ]
        },
        {
          "data": {
            "text/plain": [
              "Text(0, 0.5, 'Training loss')"
            ]
          },
          "execution_count": 48,
          "metadata": {},
          "output_type": "execute_result"
        },
        {
          "data": {
            "image/png": "[encoded data removed]",
            "text/plain": [
              "<Figure size 1400x600 with 1 Axes>"
            ]
          },
          "metadata": {},
          "output_type": "display_data"
        }
      ],
      "source": [
        "print(\"Training CNN-ResNet with dropout and batch norm:\")\n",
        "train_lossesc=train(resnet_with_batch_norm_dropout, criterion, optimizer_adam_bnd, train_loaderN,epochs)\n",
        "print(\"Evaluation CNN-ResNet PART A:\")\n",
        "evaluate(resnet_with_batch_norm_dropout, test_loaderN)\n",
        "\n",
        "plt.plot(range(1,epochs+1), train_lossesc)\n",
        "plt.xlabel(\"Number of epochs\")\n",
        "plt.ylabel(\"Training loss\")"
      ]
    },
    {
      "cell_type": "code",
      "execution_count": null,
      "metadata": {
        "id": "VdJ05u5L6rMr"
      },
      "outputs": [],
      "source": []
    }
  ],
  "metadata": {
    "accelerator": "GPU",
    "colab": {
      "gpuType": "T4",
      "provenance": []
    },
    "kernelspec": {
      "display_name": "Python 3",
      "name": "python3"
    },
    "language_info": {
      "codemirror_mode": {
        "name": "ipython",
        "version": 3
      },
      "file_extension": ".py",
      "mimetype": "text/x-python",
      "name": "python",
      "nbconvert_exporter": "python",
      "pygments_lexer": "ipython3",
      "version": "3.10.13"
    }
  },
  "nbformat": 4,
  "nbformat_minor": 0
}